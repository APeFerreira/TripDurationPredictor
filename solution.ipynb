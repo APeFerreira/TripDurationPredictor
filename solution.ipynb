{
 "cells": [
  {
   "cell_type": "markdown",
   "metadata": {},
   "source": [
    "# 1. Problem Definition and Requirements\n",
    "\n",
    "**Objective:**  \n",
    "Predict travel time (duration in seconds) for ride trips given start and end locations (specified in WGS84 coordinates) and a departure datetime.\n",
    "\n",
    "**Datasets:**  \n",
    "- **train.csv:** Contains columns:\n",
    "  - `row_id`, `start_lng`, `start_lat`, `end_lng`, `end_lat`, `datetime`, `duration`\n",
    "- **test.csv:** Contains columns:\n",
    "  - `row_id`, `start_lng`, `start_lat`, `end_lng`, `end_lat`, `datetime`\n",
    "\n",
    "**Evaluation Metric:**  \n",
    "Root Mean Squared Error (RMSE) computed as:  \n",
    "```python\n",
    "RMSE = sqrt(mean_squared_error(prediction, ground_truth))"
   ]
  },
  {
   "cell_type": "markdown",
   "metadata": {},
   "source": [
    "# 2. Data Ingestion and Exploration\n",
    "\n",
    "In this step, we load the training and test datasets, inspect their structure, and conduct initial exploratory analysis to understand the underlying data characteristics. This exploration helps identify potential issues (such as missing values and outliers) and informs subsequent feature engineering and modeling steps."
   ]
  },
  {
   "cell_type": "code",
   "execution_count": 1,
   "metadata": {},
   "outputs": [],
   "source": [
    "import pandas as pd\n",
    "import numpy as np\n",
    "import matplotlib.pyplot as plt\n",
    "from scipy.stats import skew\n",
    "from pyproj import Geod\n",
    "\n",
    "from sklearn.metrics.pairwise import haversine_distances\n",
    "from sklearn.ensemble import RandomForestRegressor\n",
    "from sklearn.linear_model import LinearRegression\n",
    "from sklearn.ensemble import RandomForestRegressor\n",
    "from sklearn.model_selection import cross_val_score\n",
    "from sklearn.model_selection import train_test_split"
   ]
  },
  {
   "cell_type": "markdown",
   "metadata": {},
   "source": [
    "## Data Loading\n",
    "\n",
    "- Read the `train.csv` and `test.csv` files using pandas.\n",
    "- Parse the `datetime` column into datetime objects for easier temporal manipulation later."
   ]
  },
  {
   "cell_type": "code",
   "execution_count": 2,
   "metadata": {},
   "outputs": [],
   "source": [
    "train = pd.read_csv('train.csv', parse_dates=['datetime'])\n",
    "test = pd.read_csv('test.csv', parse_dates=['datetime'])"
   ]
  },
  {
   "cell_type": "markdown",
   "metadata": {},
   "source": [
    "## Initial Inspection\n",
    "\n",
    "- Display the first few rows of each dataset with `.head()` to get an overview.\n",
    "- Use `.info()` to review data types and non-null counts, which aids in detecting missing or inconsistent data.\n",
    "- Generate summary statistics with `.describe()` to understand the distribution, central tendency, and spread of numerical features."
   ]
  },
  {
   "cell_type": "code",
   "execution_count": 3,
   "metadata": {},
   "outputs": [
    {
     "data": {
      "application/vnd.microsoft.datawrangler.viewer.v0+json": {
       "columns": [
        {
         "name": "index",
         "rawType": "int64",
         "type": "integer"
        },
        {
         "name": "row_id",
         "rawType": "int64",
         "type": "integer"
        },
        {
         "name": "start_lng",
         "rawType": "float64",
         "type": "float"
        },
        {
         "name": "start_lat",
         "rawType": "float64",
         "type": "float"
        },
        {
         "name": "end_lng",
         "rawType": "float64",
         "type": "float"
        },
        {
         "name": "end_lat",
         "rawType": "float64",
         "type": "float"
        },
        {
         "name": "datetime",
         "rawType": "datetime64[ns]",
         "type": "datetime"
        },
        {
         "name": "duration",
         "rawType": "float64",
         "type": "float"
        }
       ],
       "conversionMethod": "pd.DataFrame",
       "ref": "1aec265f-8960-43cc-8440-f5dd775e6a56",
       "rows": [
        [
         "0",
         "0",
         "-73.78327900000002",
         "40.644718",
         "-73.963799",
         "40.68132",
         "2015-01-09 00:51:48",
         "1815.0"
        ],
        [
         "1",
         "1",
         "-122.422385",
         "37.789408",
         "-122.41989",
         "37.766692",
         "2012-09-14 01:46:00",
         "300.0"
        ],
        [
         "2",
         "2",
         "-73.885292",
         "40.77306",
         "-74.000076",
         "40.76136",
         "2015-04-19 20:26:57",
         "2620.0"
        ],
        [
         "3",
         "3",
         "-122.401603",
         "37.788975",
         "-122.410958",
         "37.796447",
         "2012-09-03 23:48:00",
         "360.0"
        ],
        [
         "4",
         "4",
         "-74.008728",
         "40.714317",
         "-74.00643199999998",
         "40.73172",
         "2015-01-21 12:14:45",
         "582.0"
        ]
       ],
       "shape": {
        "columns": 7,
        "rows": 5
       }
      },
      "text/html": [
       "<div>\n",
       "<style scoped>\n",
       "    .dataframe tbody tr th:only-of-type {\n",
       "        vertical-align: middle;\n",
       "    }\n",
       "\n",
       "    .dataframe tbody tr th {\n",
       "        vertical-align: top;\n",
       "    }\n",
       "\n",
       "    .dataframe thead th {\n",
       "        text-align: right;\n",
       "    }\n",
       "</style>\n",
       "<table border=\"1\" class=\"dataframe\">\n",
       "  <thead>\n",
       "    <tr style=\"text-align: right;\">\n",
       "      <th></th>\n",
       "      <th>row_id</th>\n",
       "      <th>start_lng</th>\n",
       "      <th>start_lat</th>\n",
       "      <th>end_lng</th>\n",
       "      <th>end_lat</th>\n",
       "      <th>datetime</th>\n",
       "      <th>duration</th>\n",
       "    </tr>\n",
       "  </thead>\n",
       "  <tbody>\n",
       "    <tr>\n",
       "      <th>0</th>\n",
       "      <td>0</td>\n",
       "      <td>-73.783279</td>\n",
       "      <td>40.644718</td>\n",
       "      <td>-73.963799</td>\n",
       "      <td>40.681320</td>\n",
       "      <td>2015-01-09 00:51:48</td>\n",
       "      <td>1815.0</td>\n",
       "    </tr>\n",
       "    <tr>\n",
       "      <th>1</th>\n",
       "      <td>1</td>\n",
       "      <td>-122.422385</td>\n",
       "      <td>37.789408</td>\n",
       "      <td>-122.419890</td>\n",
       "      <td>37.766692</td>\n",
       "      <td>2012-09-14 01:46:00</td>\n",
       "      <td>300.0</td>\n",
       "    </tr>\n",
       "    <tr>\n",
       "      <th>2</th>\n",
       "      <td>2</td>\n",
       "      <td>-73.885292</td>\n",
       "      <td>40.773060</td>\n",
       "      <td>-74.000076</td>\n",
       "      <td>40.761360</td>\n",
       "      <td>2015-04-19 20:26:57</td>\n",
       "      <td>2620.0</td>\n",
       "    </tr>\n",
       "    <tr>\n",
       "      <th>3</th>\n",
       "      <td>3</td>\n",
       "      <td>-122.401603</td>\n",
       "      <td>37.788975</td>\n",
       "      <td>-122.410958</td>\n",
       "      <td>37.796447</td>\n",
       "      <td>2012-09-03 23:48:00</td>\n",
       "      <td>360.0</td>\n",
       "    </tr>\n",
       "    <tr>\n",
       "      <th>4</th>\n",
       "      <td>4</td>\n",
       "      <td>-74.008728</td>\n",
       "      <td>40.714317</td>\n",
       "      <td>-74.006432</td>\n",
       "      <td>40.731720</td>\n",
       "      <td>2015-01-21 12:14:45</td>\n",
       "      <td>582.0</td>\n",
       "    </tr>\n",
       "  </tbody>\n",
       "</table>\n",
       "</div>"
      ],
      "text/plain": [
       "   row_id   start_lng  start_lat     end_lng    end_lat            datetime  \\\n",
       "0       0  -73.783279  40.644718  -73.963799  40.681320 2015-01-09 00:51:48   \n",
       "1       1 -122.422385  37.789408 -122.419890  37.766692 2012-09-14 01:46:00   \n",
       "2       2  -73.885292  40.773060  -74.000076  40.761360 2015-04-19 20:26:57   \n",
       "3       3 -122.401603  37.788975 -122.410958  37.796447 2012-09-03 23:48:00   \n",
       "4       4  -74.008728  40.714317  -74.006432  40.731720 2015-01-21 12:14:45   \n",
       "\n",
       "   duration  \n",
       "0    1815.0  \n",
       "1     300.0  \n",
       "2    2620.0  \n",
       "3     360.0  \n",
       "4     582.0  "
      ]
     },
     "execution_count": 3,
     "metadata": {},
     "output_type": "execute_result"
    }
   ],
   "source": [
    "train.head()"
   ]
  },
  {
   "cell_type": "code",
   "execution_count": 4,
   "metadata": {},
   "outputs": [
    {
     "data": {
      "application/vnd.microsoft.datawrangler.viewer.v0+json": {
       "columns": [
        {
         "name": "index",
         "rawType": "int64",
         "type": "integer"
        },
        {
         "name": "row_id",
         "rawType": "int64",
         "type": "integer"
        },
        {
         "name": "start_lng",
         "rawType": "float64",
         "type": "float"
        },
        {
         "name": "start_lat",
         "rawType": "float64",
         "type": "float"
        },
        {
         "name": "end_lng",
         "rawType": "float64",
         "type": "float"
        },
        {
         "name": "end_lat",
         "rawType": "float64",
         "type": "float"
        },
        {
         "name": "datetime",
         "rawType": "datetime64[ns]",
         "type": "datetime"
        }
       ],
       "conversionMethod": "pd.DataFrame",
       "ref": "071edd57-6cf8-4358-9247-7ed1e40bcdb1",
       "rows": [
        [
         "0",
         "0",
         "-74.001488",
         "40.72617",
         "-73.962097",
         "40.7645",
         "2015-06-27 23:58:40"
        ],
        [
         "1",
         "1",
         "-122.454077",
         "37.77417",
         "-122.42807",
         "37.777023",
         "2012-09-10 01:32:00"
        ],
        [
         "2",
         "2",
         "-73.976753",
         "40.751575",
         "-73.789917",
         "40.646965",
         "2015-09-26 11:24:54"
        ],
        [
         "3",
         "3",
         "-122.405967",
         "37.778165",
         "-122.430198",
         "37.759545",
         "2012-09-03 05:21:00"
        ],
        [
         "4",
         "4",
         "-73.988197",
         "40.750187",
         "-73.872711",
         "40.774292",
         "2015-02-12 09:48:39"
        ]
       ],
       "shape": {
        "columns": 6,
        "rows": 5
       }
      },
      "text/html": [
       "<div>\n",
       "<style scoped>\n",
       "    .dataframe tbody tr th:only-of-type {\n",
       "        vertical-align: middle;\n",
       "    }\n",
       "\n",
       "    .dataframe tbody tr th {\n",
       "        vertical-align: top;\n",
       "    }\n",
       "\n",
       "    .dataframe thead th {\n",
       "        text-align: right;\n",
       "    }\n",
       "</style>\n",
       "<table border=\"1\" class=\"dataframe\">\n",
       "  <thead>\n",
       "    <tr style=\"text-align: right;\">\n",
       "      <th></th>\n",
       "      <th>row_id</th>\n",
       "      <th>start_lng</th>\n",
       "      <th>start_lat</th>\n",
       "      <th>end_lng</th>\n",
       "      <th>end_lat</th>\n",
       "      <th>datetime</th>\n",
       "    </tr>\n",
       "  </thead>\n",
       "  <tbody>\n",
       "    <tr>\n",
       "      <th>0</th>\n",
       "      <td>0</td>\n",
       "      <td>-74.001488</td>\n",
       "      <td>40.726170</td>\n",
       "      <td>-73.962097</td>\n",
       "      <td>40.764500</td>\n",
       "      <td>2015-06-27 23:58:40</td>\n",
       "    </tr>\n",
       "    <tr>\n",
       "      <th>1</th>\n",
       "      <td>1</td>\n",
       "      <td>-122.454077</td>\n",
       "      <td>37.774170</td>\n",
       "      <td>-122.428070</td>\n",
       "      <td>37.777023</td>\n",
       "      <td>2012-09-10 01:32:00</td>\n",
       "    </tr>\n",
       "    <tr>\n",
       "      <th>2</th>\n",
       "      <td>2</td>\n",
       "      <td>-73.976753</td>\n",
       "      <td>40.751575</td>\n",
       "      <td>-73.789917</td>\n",
       "      <td>40.646965</td>\n",
       "      <td>2015-09-26 11:24:54</td>\n",
       "    </tr>\n",
       "    <tr>\n",
       "      <th>3</th>\n",
       "      <td>3</td>\n",
       "      <td>-122.405967</td>\n",
       "      <td>37.778165</td>\n",
       "      <td>-122.430198</td>\n",
       "      <td>37.759545</td>\n",
       "      <td>2012-09-03 05:21:00</td>\n",
       "    </tr>\n",
       "    <tr>\n",
       "      <th>4</th>\n",
       "      <td>4</td>\n",
       "      <td>-73.988197</td>\n",
       "      <td>40.750187</td>\n",
       "      <td>-73.872711</td>\n",
       "      <td>40.774292</td>\n",
       "      <td>2015-02-12 09:48:39</td>\n",
       "    </tr>\n",
       "  </tbody>\n",
       "</table>\n",
       "</div>"
      ],
      "text/plain": [
       "   row_id   start_lng  start_lat     end_lng    end_lat            datetime\n",
       "0       0  -74.001488  40.726170  -73.962097  40.764500 2015-06-27 23:58:40\n",
       "1       1 -122.454077  37.774170 -122.428070  37.777023 2012-09-10 01:32:00\n",
       "2       2  -73.976753  40.751575  -73.789917  40.646965 2015-09-26 11:24:54\n",
       "3       3 -122.405967  37.778165 -122.430198  37.759545 2012-09-03 05:21:00\n",
       "4       4  -73.988197  40.750187  -73.872711  40.774292 2015-02-12 09:48:39"
      ]
     },
     "execution_count": 4,
     "metadata": {},
     "output_type": "execute_result"
    }
   ],
   "source": [
    "test.head()"
   ]
  },
  {
   "cell_type": "code",
   "execution_count": 5,
   "metadata": {},
   "outputs": [
    {
     "name": "stdout",
     "output_type": "stream",
     "text": [
      "<class 'pandas.core.frame.DataFrame'>\n",
      "RangeIndex: 146001 entries, 0 to 146000\n",
      "Data columns (total 7 columns):\n",
      " #   Column     Non-Null Count   Dtype         \n",
      "---  ------     --------------   -----         \n",
      " 0   row_id     146001 non-null  int64         \n",
      " 1   start_lng  145601 non-null  float64       \n",
      " 2   start_lat  146001 non-null  float64       \n",
      " 3   end_lng    146001 non-null  float64       \n",
      " 4   end_lat    145401 non-null  float64       \n",
      " 5   datetime   146001 non-null  datetime64[ns]\n",
      " 6   duration   146001 non-null  float64       \n",
      "dtypes: datetime64[ns](1), float64(5), int64(1)\n",
      "memory usage: 7.8 MB\n"
     ]
    }
   ],
   "source": [
    "train.info()"
   ]
  },
  {
   "cell_type": "code",
   "execution_count": 6,
   "metadata": {},
   "outputs": [
    {
     "name": "stdout",
     "output_type": "stream",
     "text": [
      "<class 'pandas.core.frame.DataFrame'>\n",
      "RangeIndex: 30000 entries, 0 to 29999\n",
      "Data columns (total 6 columns):\n",
      " #   Column     Non-Null Count  Dtype         \n",
      "---  ------     --------------  -----         \n",
      " 0   row_id     30000 non-null  int64         \n",
      " 1   start_lng  30000 non-null  float64       \n",
      " 2   start_lat  30000 non-null  float64       \n",
      " 3   end_lng    30000 non-null  float64       \n",
      " 4   end_lat    30000 non-null  float64       \n",
      " 5   datetime   30000 non-null  datetime64[ns]\n",
      "dtypes: datetime64[ns](1), float64(4), int64(1)\n",
      "memory usage: 1.4 MB\n"
     ]
    }
   ],
   "source": [
    "test.info()"
   ]
  },
  {
   "cell_type": "code",
   "execution_count": 7,
   "metadata": {},
   "outputs": [
    {
     "data": {
      "application/vnd.microsoft.datawrangler.viewer.v0+json": {
       "columns": [
        {
         "name": "index",
         "rawType": "object",
         "type": "string"
        },
        {
         "name": "row_id",
         "rawType": "float64",
         "type": "float"
        },
        {
         "name": "start_lng",
         "rawType": "float64",
         "type": "float"
        },
        {
         "name": "start_lat",
         "rawType": "float64",
         "type": "float"
        },
        {
         "name": "end_lng",
         "rawType": "float64",
         "type": "float"
        },
        {
         "name": "end_lat",
         "rawType": "float64",
         "type": "float"
        },
        {
         "name": "datetime",
         "rawType": "object",
         "type": "unknown"
        },
        {
         "name": "duration",
         "rawType": "float64",
         "type": "float"
        }
       ],
       "conversionMethod": "pd.DataFrame",
       "ref": "02e5a071-d717-4941-97ac-5aa45dd5e0f9",
       "rows": [
        [
         "count",
         "146001.0",
         "145601.0",
         "146001.0",
         "146001.0",
         "145401.0",
         "146001",
         "146001.0"
        ],
        [
         "mean",
         "73000.0",
         "-86.46569466768085",
         "39.913702538989455",
         "-87.17716252714023",
         "39.92277181203705",
         "2014-09-12 22:40:34.780385280",
         "1063.2223135457975"
        ],
        [
         "min",
         "0.0",
         "-122.515832",
         "37.459648",
         "-122.63442",
         "37.225640000000006",
         "2012-09-01 00:00:00",
         "0.0"
        ],
        [
         "25%",
         "36500.0",
         "-122.393532",
         "37.79843",
         "-122.392458",
         "37.800318",
         "2012-09-13 21:16:00",
         "382.0"
        ],
        [
         "50%",
         "73000.0",
         "-73.98983",
         "40.741089",
         "-73.988754",
         "40.74099",
         "2015-04-16 03:37:24",
         "631.0"
        ],
        [
         "75%",
         "109500.0",
         "-73.97419000000002",
         "40.762104",
         "-73.971245",
         "40.762669",
         "2015-08-19 00:46:17",
         "1020.0"
        ],
        [
         "max",
         "146000.0",
         "74.100212",
         "40.994354",
         "-50.336068000000026",
         "41.00539000000001",
         "2016-01-01 03:49:39",
         "42168.0"
        ],
        [
         "std",
         "42147.00266329742",
         "25.46846737166716",
         "1.3395080641017245",
         "22.225753043161383",
         "1.3364370112743162",
         null,
         "3305.9058287829967"
        ]
       ],
       "shape": {
        "columns": 7,
        "rows": 8
       }
      },
      "text/html": [
       "<div>\n",
       "<style scoped>\n",
       "    .dataframe tbody tr th:only-of-type {\n",
       "        vertical-align: middle;\n",
       "    }\n",
       "\n",
       "    .dataframe tbody tr th {\n",
       "        vertical-align: top;\n",
       "    }\n",
       "\n",
       "    .dataframe thead th {\n",
       "        text-align: right;\n",
       "    }\n",
       "</style>\n",
       "<table border=\"1\" class=\"dataframe\">\n",
       "  <thead>\n",
       "    <tr style=\"text-align: right;\">\n",
       "      <th></th>\n",
       "      <th>row_id</th>\n",
       "      <th>start_lng</th>\n",
       "      <th>start_lat</th>\n",
       "      <th>end_lng</th>\n",
       "      <th>end_lat</th>\n",
       "      <th>datetime</th>\n",
       "      <th>duration</th>\n",
       "    </tr>\n",
       "  </thead>\n",
       "  <tbody>\n",
       "    <tr>\n",
       "      <th>count</th>\n",
       "      <td>146001.000000</td>\n",
       "      <td>145601.000000</td>\n",
       "      <td>146001.000000</td>\n",
       "      <td>146001.000000</td>\n",
       "      <td>145401.000000</td>\n",
       "      <td>146001</td>\n",
       "      <td>146001.000000</td>\n",
       "    </tr>\n",
       "    <tr>\n",
       "      <th>mean</th>\n",
       "      <td>73000.000000</td>\n",
       "      <td>-86.465695</td>\n",
       "      <td>39.913703</td>\n",
       "      <td>-87.177163</td>\n",
       "      <td>39.922772</td>\n",
       "      <td>2014-09-12 22:40:34.780385280</td>\n",
       "      <td>1063.222314</td>\n",
       "    </tr>\n",
       "    <tr>\n",
       "      <th>min</th>\n",
       "      <td>0.000000</td>\n",
       "      <td>-122.515832</td>\n",
       "      <td>37.459648</td>\n",
       "      <td>-122.634420</td>\n",
       "      <td>37.225640</td>\n",
       "      <td>2012-09-01 00:00:00</td>\n",
       "      <td>0.000000</td>\n",
       "    </tr>\n",
       "    <tr>\n",
       "      <th>25%</th>\n",
       "      <td>36500.000000</td>\n",
       "      <td>-122.393532</td>\n",
       "      <td>37.798430</td>\n",
       "      <td>-122.392458</td>\n",
       "      <td>37.800318</td>\n",
       "      <td>2012-09-13 21:16:00</td>\n",
       "      <td>382.000000</td>\n",
       "    </tr>\n",
       "    <tr>\n",
       "      <th>50%</th>\n",
       "      <td>73000.000000</td>\n",
       "      <td>-73.989830</td>\n",
       "      <td>40.741089</td>\n",
       "      <td>-73.988754</td>\n",
       "      <td>40.740990</td>\n",
       "      <td>2015-04-16 03:37:24</td>\n",
       "      <td>631.000000</td>\n",
       "    </tr>\n",
       "    <tr>\n",
       "      <th>75%</th>\n",
       "      <td>109500.000000</td>\n",
       "      <td>-73.974190</td>\n",
       "      <td>40.762104</td>\n",
       "      <td>-73.971245</td>\n",
       "      <td>40.762669</td>\n",
       "      <td>2015-08-19 00:46:17</td>\n",
       "      <td>1020.000000</td>\n",
       "    </tr>\n",
       "    <tr>\n",
       "      <th>max</th>\n",
       "      <td>146000.000000</td>\n",
       "      <td>74.100212</td>\n",
       "      <td>40.994354</td>\n",
       "      <td>-50.336068</td>\n",
       "      <td>41.005390</td>\n",
       "      <td>2016-01-01 03:49:39</td>\n",
       "      <td>42168.000000</td>\n",
       "    </tr>\n",
       "    <tr>\n",
       "      <th>std</th>\n",
       "      <td>42147.002663</td>\n",
       "      <td>25.468467</td>\n",
       "      <td>1.339508</td>\n",
       "      <td>22.225753</td>\n",
       "      <td>1.336437</td>\n",
       "      <td>NaN</td>\n",
       "      <td>3305.905829</td>\n",
       "    </tr>\n",
       "  </tbody>\n",
       "</table>\n",
       "</div>"
      ],
      "text/plain": [
       "              row_id      start_lng      start_lat        end_lng  \\\n",
       "count  146001.000000  145601.000000  146001.000000  146001.000000   \n",
       "mean    73000.000000     -86.465695      39.913703     -87.177163   \n",
       "min         0.000000    -122.515832      37.459648    -122.634420   \n",
       "25%     36500.000000    -122.393532      37.798430    -122.392458   \n",
       "50%     73000.000000     -73.989830      40.741089     -73.988754   \n",
       "75%    109500.000000     -73.974190      40.762104     -73.971245   \n",
       "max    146000.000000      74.100212      40.994354     -50.336068   \n",
       "std     42147.002663      25.468467       1.339508      22.225753   \n",
       "\n",
       "             end_lat                       datetime       duration  \n",
       "count  145401.000000                         146001  146001.000000  \n",
       "mean       39.922772  2014-09-12 22:40:34.780385280    1063.222314  \n",
       "min        37.225640            2012-09-01 00:00:00       0.000000  \n",
       "25%        37.800318            2012-09-13 21:16:00     382.000000  \n",
       "50%        40.740990            2015-04-16 03:37:24     631.000000  \n",
       "75%        40.762669            2015-08-19 00:46:17    1020.000000  \n",
       "max        41.005390            2016-01-01 03:49:39   42168.000000  \n",
       "std         1.336437                            NaN    3305.905829  "
      ]
     },
     "execution_count": 7,
     "metadata": {},
     "output_type": "execute_result"
    }
   ],
   "source": [
    "train.describe()"
   ]
  },
  {
   "cell_type": "markdown",
   "metadata": {},
   "source": [
    "## Missing Values Analysis\n",
    "\n",
    "- Identify missing data with `.isnull().sum()`, ensuring data integrity and determining if imputation or cleaning is required."
   ]
  },
  {
   "cell_type": "code",
   "execution_count": 8,
   "metadata": {},
   "outputs": [
    {
     "data": {
      "text/plain": [
       "row_id         0\n",
       "start_lng    400\n",
       "start_lat      0\n",
       "end_lng        0\n",
       "end_lat      600\n",
       "datetime       0\n",
       "duration       0\n",
       "dtype: int64"
      ]
     },
     "execution_count": 8,
     "metadata": {},
     "output_type": "execute_result"
    }
   ],
   "source": [
    "train.isnull().sum()"
   ]
  },
  {
   "cell_type": "code",
   "execution_count": 9,
   "metadata": {},
   "outputs": [
    {
     "data": {
      "text/plain": [
       "row_id       0\n",
       "start_lng    0\n",
       "start_lat    0\n",
       "end_lng      0\n",
       "end_lat      0\n",
       "datetime     0\n",
       "dtype: int64"
      ]
     },
     "execution_count": 9,
     "metadata": {},
     "output_type": "execute_result"
    }
   ],
   "source": [
    "test.isnull().sum()"
   ]
  },
  {
   "cell_type": "code",
   "execution_count": 10,
   "metadata": {},
   "outputs": [
    {
     "name": "stdout",
     "output_type": "stream",
     "text": [
      "Missing coordinate rows: 1000 out of 146001\n",
      "\n",
      "Summary statistics for 'duration' by missing indicator:\n",
      "                   count         mean          std    min    25%    50%  \\\n",
      "missing_coords                                                            \n",
      "False           145001.0  1065.804932  3316.873211    0.0  383.0  631.0   \n",
      "True              1000.0   688.740000   506.019830  120.0  360.0  600.0   \n",
      "\n",
      "                   75%      max  \n",
      "missing_coords                   \n",
      "False           1020.0  42168.0  \n",
      "True             840.0   6180.0  \n"
     ]
    }
   ],
   "source": [
    "train['missing_coords'] = train[['start_lng', 'end_lat']].isnull().any(axis=1)\n",
    "missing_count = train['missing_coords'].sum()\n",
    "total_rows = train.shape[0]\n",
    "print(f\"Missing coordinate rows: {missing_count} out of {total_rows}\")\n",
    "print(\"\\nSummary statistics for 'duration' by missing indicator:\")\n",
    "print(train.groupby('missing_coords')['duration'].describe())"
   ]
  },
  {
   "cell_type": "code",
   "execution_count": 11,
   "metadata": {},
   "outputs": [
    {
     "data": {
      "image/png": "[encoded data removed]",
      "text/plain": [
       "<Figure size 1000x500 with 1 Axes>"
      ]
     },
     "metadata": {},
     "output_type": "display_data"
    }
   ],
   "source": [
    "plt.figure(figsize=(10, 5))\n",
    "plt.hist(train.loc[~train['missing_coords'], 'duration'], bins='auto', alpha=0.5, label='Complete Data', color='blue', histtype='stepfilled', density=True)\n",
    "plt.hist(train.loc[train['missing_coords'], 'duration'], bins='auto', alpha=0.5, label='Missing Coords', color='red', histtype='stepfilled', density=True)\n",
    "plt.xlabel(\"Duration (seconds)\")\n",
    "plt.ylabel(\"Frequency\")\n",
    "plt.title(\"Trip Duration Distribution: Missing vs. Complete Coordinates\")\n",
    "plt.legend()\n",
    "plt.grid()\n",
    "plt.show()"
   ]
  },
  {
   "cell_type": "code",
   "execution_count": 12,
   "metadata": {},
   "outputs": [],
   "source": [
    "train.dropna(subset=['missing_coords'], inplace=True)"
   ]
  },
  {
   "cell_type": "markdown",
   "metadata": {},
   "source": [
    "## Exploratory Visualizations\n",
    "\n",
    "- Trip Duration Distribution: A histogram (with kernel density estimation) is plotted to understand the distribution of trip durations, highlighting skewness or outliers.\n",
    "- Geospatial Distribution: Scatter plots of the start and end locations reveal spatial patterns or clustering, which might indicate regional trends or anomalies.\n",
    "- Temporal Patterns: Extracting the hour from the `datetime` field and plotting trip counts by hour provides insight into peak travel times and daily usage patterns.\n"
   ]
  },
  {
   "cell_type": "code",
   "execution_count": 13,
   "metadata": {},
   "outputs": [
    {
     "data": {
      "image/png": "[encoded data removed]",
      "text/plain": [
       "<Figure size 1000x500 with 1 Axes>"
      ]
     },
     "metadata": {},
     "output_type": "display_data"
    }
   ],
   "source": [
    "plt.figure(figsize=(10, 5))\n",
    "plt.hist(train['duration'], bins=100)\n",
    "plt.title(\"Distribution of Trip Durations\")\n",
    "plt.xlabel(\"Duration (seconds)\")\n",
    "plt.ylabel(\"Frequency\")\n",
    "plt.grid()\n",
    "plt.show()"
   ]
  },
  {
   "cell_type": "code",
   "execution_count": 14,
   "metadata": {},
   "outputs": [
    {
     "name": "stdout",
     "output_type": "stream",
     "text": [
      "Lower bound: -575.0\n",
      "Upper bound: 1977.0\n"
     ]
    }
   ],
   "source": [
    "q1 = train['duration'].quantile(0.25)\n",
    "q3 = train['duration'].quantile(0.75)\n",
    "iqr = q3 - q1\n",
    "\n",
    "lower_bound = q1 - 1.5 * iqr\n",
    "upper_bound = q3 + 1.5 * iqr\n",
    "\n",
    "print(f\"Lower bound: {lower_bound}\")\n",
    "print(f\"Upper bound: {upper_bound}\")"
   ]
  },
  {
   "cell_type": "code",
   "execution_count": 15,
   "metadata": {},
   "outputs": [
    {
     "name": "stdout",
     "output_type": "stream",
     "text": [
      "Share of trips with duration outliers: 0.05\n"
     ]
    }
   ],
   "source": [
    "outliers = train[(train['duration'] < lower_bound) | (train['duration'] > upper_bound)]\n",
    "outlier_share = outliers.shape[0] / train.shape[0]\n",
    "print(f\"Share of trips with duration outliers: {outlier_share:.2f}\")"
   ]
  },
  {
   "cell_type": "code",
   "execution_count": 16,
   "metadata": {},
   "outputs": [
    {
     "data": {
      "image/png": "[encoded data removed]",
      "text/plain": [
       "<Figure size 800x400 with 1 Axes>"
      ]
     },
     "metadata": {},
     "output_type": "display_data"
    }
   ],
   "source": [
    "plt.figure(figsize=(8, 4))\n",
    "plt.boxplot(train['duration'], vert=False)\n",
    "plt.title(\"Boxplot of Trip Duration\")\n",
    "plt.xlabel(\"Duration (seconds)\")\n",
    "plt.grid()\n",
    "plt.show()"
   ]
  },
  {
   "cell_type": "code",
   "execution_count": 17,
   "metadata": {},
   "outputs": [
    {
     "name": "stdout",
     "output_type": "stream",
     "text": [
      "\n",
      "Number of rows before removing outliers: 146001\n",
      "Number of rows after removing outliers: 138038\n"
     ]
    },
    {
     "data": {
      "image/png": "[encoded data removed]",
      "text/plain": [
       "<Figure size 1000x500 with 1 Axes>"
      ]
     },
     "metadata": {},
     "output_type": "display_data"
    }
   ],
   "source": [
    "train_no_outliers = train[(train['duration'] >= lower_bound) & (train['duration'] <= upper_bound)]\n",
    "\n",
    "print(\"\\nNumber of rows before removing outliers:\", train.shape[0])\n",
    "print(\"Number of rows after removing outliers:\", train_no_outliers.shape[0])\n",
    "\n",
    "plt.figure(figsize=(10, 5))\n",
    "plt.hist(train_no_outliers['duration'], bins='auto', color='blue', edgecolor='black')\n",
    "plt.title(\"Distribution of Trip Durations (Outliers Removed)\")\n",
    "plt.xlabel(\"Duration (seconds)\")\n",
    "plt.ylabel(\"Frequency\")\n",
    "plt.show()\n"
   ]
  },
  {
   "cell_type": "code",
   "execution_count": 18,
   "metadata": {},
   "outputs": [
    {
     "data": {
      "image/png": "[encoded data removed]",
      "text/plain": [
       "<Figure size 1000x500 with 1 Axes>"
      ]
     },
     "metadata": {},
     "output_type": "display_data"
    }
   ],
   "source": [
    "plt.figure(figsize=(10, 5))\n",
    "plt.hist(train['duration'], bins=50, color='blue', edgecolor='black')\n",
    "plt.title(\"Histogram of Trip Durations (Original)\")\n",
    "plt.xlabel(\"Duration (seconds)\")\n",
    "plt.ylabel(\"Frequency\")\n",
    "plt.show()"
   ]
  },
  {
   "cell_type": "code",
   "execution_count": 19,
   "metadata": {},
   "outputs": [
    {
     "name": "stdout",
     "output_type": "stream",
     "text": [
      "Skewness of original duration: 11.278690438897375\n"
     ]
    }
   ],
   "source": [
    "duration_skew = skew(train['duration'])\n",
    "print(\"Skewness of original duration:\", duration_skew)"
   ]
  },
  {
   "cell_type": "code",
   "execution_count": 20,
   "metadata": {},
   "outputs": [
    {
     "data": {
      "image/png": "[encoded data removed]",
      "text/plain": [
       "<Figure size 1000x500 with 1 Axes>"
      ]
     },
     "metadata": {},
     "output_type": "display_data"
    }
   ],
   "source": [
    "log_duration = np.log1p(train['duration'])\n",
    "\n",
    "plt.figure(figsize=(10, 5))\n",
    "plt.hist(log_duration, bins=50, color='green', edgecolor='black')\n",
    "plt.title(\"Histogram of Log-transformed Trip Durations\")\n",
    "plt.xlabel(\"Log(Duration + 1)\")\n",
    "plt.ylabel(\"Frequency\")\n",
    "plt.grid()\n",
    "plt.show()"
   ]
  },
  {
   "cell_type": "code",
   "execution_count": 21,
   "metadata": {},
   "outputs": [
    {
     "name": "stdout",
     "output_type": "stream",
     "text": [
      "Skewness of log-transformed duration: -0.8466758544086616\n"
     ]
    }
   ],
   "source": [
    "log_duration_skew = skew(log_duration)\n",
    "print(\"Skewness of log-transformed duration:\", log_duration_skew)"
   ]
  },
  {
   "cell_type": "markdown",
   "metadata": {},
   "source": [
    "There is a difference in skewness, but we'll check that with the residuals later.\n",
    "\n",
    "The residuals appear skewed, violating the normality assumption. This can happen if the relationship we are trying to model is non-linear."
   ]
  },
  {
   "cell_type": "code",
   "execution_count": 22,
   "metadata": {},
   "outputs": [
    {
     "data": {
      "image/png": "[encoded data removed]",
      "text/plain": [
       "<Figure size 1000x500 with 1 Axes>"
      ]
     },
     "metadata": {},
     "output_type": "display_data"
    }
   ],
   "source": [
    "plt.figure(figsize=(10, 5))\n",
    "plt.scatter(train['start_lng'], train['start_lat'], color='blue', label='Start Locations', marker='.', s=1, alpha=0.2)\n",
    "plt.title(\"Scatter Plot of Start Locations\")\n",
    "plt.xlabel(\"Longitude\")\n",
    "plt.ylabel(\"Latitude\")\n",
    "plt.legend()\n",
    "plt.xlim([-130,80])\n",
    "plt.ylim([37,42])\n",
    "plt.grid()\n",
    "plt.show()"
   ]
  },
  {
   "cell_type": "code",
   "execution_count": 23,
   "metadata": {},
   "outputs": [
    {
     "data": {
      "image/png": "[encoded data removed]",
      "text/plain": [
       "<Figure size 1000x500 with 1 Axes>"
      ]
     },
     "metadata": {},
     "output_type": "display_data"
    }
   ],
   "source": [
    "plt.figure(figsize=(10, 5))\n",
    "plt.scatter(train['end_lng'], train['end_lat'], color='red', label='End Locations', marker='.', s=1, alpha=0.2)\n",
    "plt.title(\"Scatter Plot of End Locations\")\n",
    "plt.xlabel(\"Longitude\")\n",
    "plt.ylabel(\"Latitude\")\n",
    "plt.legend()\n",
    "plt.xlim([-130,80])\n",
    "plt.ylim([37,42])\n",
    "plt.grid()\n",
    "plt.show()"
   ]
  },
  {
   "cell_type": "code",
   "execution_count": 24,
   "metadata": {},
   "outputs": [
    {
     "data": {
      "image/png": "[encoded data removed]",
      "text/plain": [
       "<Figure size 1000x500 with 1 Axes>"
      ]
     },
     "metadata": {},
     "output_type": "display_data"
    }
   ],
   "source": [
    "train['hour'] = train['datetime'].dt.hour\n",
    "hour_counts = train['hour'].value_counts().sort_index()\n",
    "\n",
    "plt.figure(figsize=(10, 5))\n",
    "plt.bar(hour_counts.index, hour_counts.values, color='green')\n",
    "plt.title(\"Trip Counts by Hour of Day\")\n",
    "plt.xlabel(\"Hour of Day\")\n",
    "plt.ylabel(\"Count\")\n",
    "plt.xticks(range(0, 24))\n",
    "plt.grid()\n",
    "plt.show()"
   ]
  },
  {
   "cell_type": "code",
   "execution_count": 25,
   "metadata": {},
   "outputs": [
    {
     "data": {
      "image/png": "[encoded data removed]",
      "text/plain": [
       "<Figure size 1000x500 with 1 Axes>"
      ]
     },
     "metadata": {},
     "output_type": "display_data"
    }
   ],
   "source": [
    "train['dayofweek'] = train['datetime'].dt.dayofweek\n",
    "day_counts = train['dayofweek'].value_counts().sort_index()\n",
    "\n",
    "plt.figure(figsize=(10, 5))\n",
    "plt.bar(day_counts.index, day_counts.values, color='purple')\n",
    "plt.title(\"Trip Counts by Day of Week\")\n",
    "plt.xlabel(\"Day of Week\")\n",
    "plt.ylabel(\"Count\")\n",
    "plt.xticks(range(0, 7), ['Monday', 'Tuesday', 'Wednesday', 'Thursday', 'Friday', 'Saturday', 'Sunday'])\n",
    "plt.grid()\n",
    "plt.show()"
   ]
  },
  {
   "cell_type": "code",
   "execution_count": 26,
   "metadata": {},
   "outputs": [
    {
     "data": {
      "image/png": "[encoded data removed]",
      "text/plain": [
       "<Figure size 1000x500 with 1 Axes>"
      ]
     },
     "metadata": {},
     "output_type": "display_data"
    }
   ],
   "source": [
    "train['month'] = train['datetime'].dt.month\n",
    "month_counts = train['month'].value_counts().sort_index()\n",
    "\n",
    "plt.figure(figsize=(10, 5))\n",
    "plt.bar(month_counts.index, month_counts.values, color='orange')\n",
    "plt.title(\"Trip Counts by Month\")\n",
    "plt.xlabel(\"Month\")\n",
    "plt.ylabel(\"Count\")\n",
    "plt.xticks(range(1, 13))\n",
    "plt.grid()\n",
    "plt.show()"
   ]
  },
  {
   "cell_type": "code",
   "execution_count": 27,
   "metadata": {},
   "outputs": [],
   "source": [
    "train.drop(columns=['hour', 'dayofweek', 'month'], inplace=True)"
   ]
  },
  {
   "cell_type": "markdown",
   "metadata": {},
   "source": [
    "# 3. Data Cleaning and Preprocessing\n",
    "\n",
    "In this step, we ensure that our data is clean and consistent before moving forward with feature engineering and model training."
   ]
  },
  {
   "cell_type": "markdown",
   "metadata": {},
   "source": [
    "## Removing Duplicates\n",
    "\n",
    "- Duplicate rows can bias model training. We remove any duplicated entries."
   ]
  },
  {
   "cell_type": "code",
   "execution_count": 28,
   "metadata": {},
   "outputs": [
    {
     "name": "stdout",
     "output_type": "stream",
     "text": [
      "Initial training data shape: (146001, 8)\n",
      "After removing duplicates: (146001, 8)\n"
     ]
    }
   ],
   "source": [
    "print(\"Initial training data shape:\", train.shape)\n",
    "train = train.drop_duplicates()\n",
    "print(\"After removing duplicates:\", train.shape)"
   ]
  },
  {
   "cell_type": "markdown",
   "metadata": {},
   "source": [
    "## Handling Missing Values  \n",
    "- For critical features like `start_lng`, `start_lat`, `end_lng`, and `end_lat`, missing values are not acceptable. Rows with missing values in these columns are dropped. (For non-critical columns or if missingness is higher, consider imputation strategies.)\n",
    "- In the Missing Values Analysis step, we observed the distribution of missing values between the complete data and the missing data. Since the distribution is similar and the share of missing values is small, dropping rows with missing values is a reasonable approach."
   ]
  },
  {
   "cell_type": "code",
   "execution_count": 29,
   "metadata": {},
   "outputs": [],
   "source": [
    "train.dropna(subset=['start_lng', 'start_lat', 'end_lng', 'end_lat'], inplace=True)"
   ]
  },
  {
   "cell_type": "markdown",
   "metadata": {},
   "source": [
    "## Removing duration equal to zero\n",
    "\n",
    "- We remove rows where the duration is zero, as these entries are likely erroneous or incomplete."
   ]
  },
  {
   "cell_type": "code",
   "execution_count": 30,
   "metadata": {},
   "outputs": [],
   "source": [
    "train = train[train['duration'] > 0]"
   ]
  },
  {
   "cell_type": "markdown",
   "metadata": {},
   "source": [
    "## Outlier Detection and Removal  \n",
    "- Outliers in the `duration` field (e.g., durations that fall significantly outside the typical range) can adversely affect the model. We apply the Interquartile Range (IQR) method to detect and remove extreme values."
   ]
  },
  {
   "cell_type": "code",
   "execution_count": 31,
   "metadata": {},
   "outputs": [],
   "source": [
    "# !!!! To be completed"
   ]
  },
  {
   "cell_type": "markdown",
   "metadata": {},
   "source": [
    "# 4. Feature Engineering\n",
    "\n",
    "- In this step, we transform the raw data into more informative features that can enhance the predictive power of our models."
   ]
  },
  {
   "cell_type": "markdown",
   "metadata": {},
   "source": [
    "## Geospatial Features\n",
    "- Haversine Distance: Calculates the great-circle distance between the start and end coordinates. This feature captures the physical distance traveled.\n",
    "- Bearing: Computes the directional angle from the start point to the end point, which might capture travel dynamics related to road networks."
   ]
  },
  {
   "cell_type": "code",
   "execution_count": 32,
   "metadata": {},
   "outputs": [],
   "source": [
    "R = 6371\n",
    "\n",
    "def compute_haversine(row):\n",
    "    start = np.radians([row['start_lat'], row['start_lng']])\n",
    "    end = np.radians([row['end_lat'], row['end_lng']])\n",
    "    distance_rad = haversine_distances([start], [end])\n",
    "    return distance_rad[0][0] * R\n",
    "\n",
    "geod = Geod(ellps='WGS84')\n",
    "\n",
    "def compute_bearing(row):\n",
    "    azimuth, _, _ = geod.inv(row['start_lng'], row['start_lat'], row['end_lng'], row['end_lat'])\n",
    "    return (azimuth + 360) % 360\n",
    "\n",
    "train['distance_km'] = train.apply(compute_haversine, axis=1)\n",
    "train['bearing'] = train.apply(compute_bearing, axis=1)\n",
    "\n",
    "test['distance_km'] = test.apply(compute_haversine, axis=1)\n",
    "test['bearing'] = test.apply(compute_bearing, axis=1)"
   ]
  },
  {
   "cell_type": "markdown",
   "metadata": {},
   "source": [
    "## Temporal Features:\n",
    "- Hour of Day: Extracted from the datetime to capture peak and off-peak travel times.\n",
    "- Day of Week: Helps identify weekly patterns in travel behavior.\n",
    "- Month: Can capture seasonal variations in travel times.\n",
    "- Given the cyclical nature of time (e.g., 23:00 is closer to 00:00 than to 20:00), we encode these features using sine and cosine transformations to preserve their cyclical nature."
   ]
  },
  {
   "cell_type": "code",
   "execution_count": 33,
   "metadata": {},
   "outputs": [],
   "source": [
    "train['hour'] = train['datetime'].dt.hour\n",
    "train['day_of_week'] = train['datetime'].dt.dayofweek\n",
    "train['month'] = train['datetime'].dt.month\n",
    "\n",
    "test['hour'] = test['datetime'].dt.hour\n",
    "test['day_of_week'] = test['datetime'].dt.dayofweek\n",
    "test['month'] = test['datetime'].dt.month"
   ]
  },
  {
   "cell_type": "code",
   "execution_count": 34,
   "metadata": {},
   "outputs": [],
   "source": [
    "def cyclical_transform(series, period):\n",
    "    sin_component = np.sin(2 * np.pi * series / period)\n",
    "    cos_component = np.cos(2 * np.pi * series / period)\n",
    "    return pd.DataFrame({f'{series.name}_sin': sin_component, f'{series.name}_cos': cos_component})\n",
    "\n",
    "hour_cyclical = cyclical_transform(train['hour'], 24)\n",
    "day_cyclical = cyclical_transform(train['day_of_week'], 7)\n",
    "month_cyclical = cyclical_transform(train['month'], 12)\n",
    "\n",
    "train = pd.concat([train, hour_cyclical, day_cyclical, month_cyclical], axis=1)\n",
    "\n",
    "hour_cyclical_test = cyclical_transform(test['hour'], 24)\n",
    "day_cyclical_test = cyclical_transform(test['day_of_week'], 7)\n",
    "month_cyclical_test = cyclical_transform(test['month'], 12)\n",
    "\n",
    "test = pd.concat([test, hour_cyclical_test, day_cyclical_test, month_cyclical_test], axis=1)"
   ]
  },
  {
   "cell_type": "code",
   "execution_count": 35,
   "metadata": {},
   "outputs": [],
   "source": [
    "# train = train[['distance_km', 'bearing', 'hour_sin', 'hour_cos', 'day_of_week_sin', 'day_of_week_cos', 'month_sin', 'month_cos', 'duration']]\n",
    "# test = test[['distance_km', 'bearing', 'hour_sin', 'hour_cos', 'day_of_week_sin', 'day_of_week_cos', 'month_sin', 'month_cos']]"
   ]
  },
  {
   "cell_type": "code",
   "execution_count": 36,
   "metadata": {},
   "outputs": [
    {
     "data": {
      "text/plain": [
       "Index(['row_id', 'start_lng', 'start_lat', 'end_lng', 'end_lat', 'datetime',\n",
       "       'duration', 'missing_coords', 'distance_km', 'bearing', 'hour',\n",
       "       'day_of_week', 'month', 'hour_sin', 'hour_cos', 'day_of_week_sin',\n",
       "       'day_of_week_cos', 'month_sin', 'month_cos'],\n",
       "      dtype='object')"
      ]
     },
     "execution_count": 36,
     "metadata": {},
     "output_type": "execute_result"
    }
   ],
   "source": [
    "train.columns"
   ]
  },
  {
   "cell_type": "markdown",
   "metadata": {},
   "source": [
    "# 5. Feature Selection and Dimensionality Reduction\n",
    "\n",
    "In this step, we evaluate our engineered and raw features to identify those that are most predictive of the target (trip duration) and remove redundant or non-informative variables."
   ]
  },
  {
   "cell_type": "code",
   "execution_count": 37,
   "metadata": {},
   "outputs": [],
   "source": [
    "features = ['start_lng', 'start_lat', 'end_lng', 'end_lat', 'distance_km', 'bearing',\n",
    "             'hour_sin', 'hour_cos', 'day_of_week_sin', 'day_of_week_cos', 'month_sin', 'month_cos']\n",
    "\n",
    "X = train[features]\n",
    "y = train['duration']"
   ]
  },
  {
   "cell_type": "markdown",
   "metadata": {},
   "source": [
    "## Correlation Analysis:  \n",
    "- We compute a correlation matrix to assess linear relationships among the features and with the target variable. This helps us spot multicollinearity and understand which features are most strongly associated with trip duration."
   ]
  },
  {
   "cell_type": "code",
   "execution_count": 38,
   "metadata": {},
   "outputs": [
    {
     "name": "stdout",
     "output_type": "stream",
     "text": [
      "Correlation of features with target (duration):\n",
      "duration           1.000000\n",
      "end_lat            0.071682\n",
      "start_lat          0.071577\n",
      "end_lng            0.070200\n",
      "start_lng          0.059954\n",
      "month_sin          0.043781\n",
      "day_of_week_sin    0.016504\n",
      "month_cos          0.000160\n",
      "bearing           -0.000511\n",
      "distance_km       -0.005996\n",
      "day_of_week_cos   -0.008634\n",
      "hour_cos          -0.010680\n",
      "hour_sin          -0.011524\n",
      "Name: duration, dtype: float64\n"
     ]
    }
   ],
   "source": [
    "corr_matrix = train[features + ['duration']].corr()\n",
    "\n",
    "print(\"Correlation of features with target (duration):\")\n",
    "print(corr_matrix['duration'].sort_values(ascending=False))"
   ]
  },
  {
   "cell_type": "code",
   "execution_count": 39,
   "metadata": {},
   "outputs": [
    {
     "data": {
      "application/vnd.microsoft.datawrangler.viewer.v0+json": {
       "columns": [
        {
         "name": "index",
         "rawType": "object",
         "type": "string"
        },
        {
         "name": "start_lng",
         "rawType": "float64",
         "type": "float"
        },
        {
         "name": "start_lat",
         "rawType": "float64",
         "type": "float"
        },
        {
         "name": "end_lng",
         "rawType": "float64",
         "type": "float"
        },
        {
         "name": "end_lat",
         "rawType": "float64",
         "type": "float"
        },
        {
         "name": "distance_km",
         "rawType": "float64",
         "type": "float"
        },
        {
         "name": "bearing",
         "rawType": "float64",
         "type": "float"
        },
        {
         "name": "hour_sin",
         "rawType": "float64",
         "type": "float"
        },
        {
         "name": "hour_cos",
         "rawType": "float64",
         "type": "float"
        },
        {
         "name": "day_of_week_sin",
         "rawType": "float64",
         "type": "float"
        },
        {
         "name": "day_of_week_cos",
         "rawType": "float64",
         "type": "float"
        },
        {
         "name": "month_sin",
         "rawType": "float64",
         "type": "float"
        },
        {
         "name": "month_cos",
         "rawType": "float64",
         "type": "float"
        },
        {
         "name": "duration",
         "rawType": "float64",
         "type": "float"
        }
       ],
       "conversionMethod": "pd.DataFrame",
       "ref": "6446b0ae-94d5-46c8-a007-0c0dfdfb9730",
       "rows": [
        [
         "start_lng",
         "1.0",
         "0.8762909376738466",
         "0.8672581306886108",
         "0.8761566741918999",
         "0.5235726248668993",
         "-0.07788634529008644",
         "0.0006559720179265272",
         "0.006466615969313741",
         "0.05932377863791295",
         "-0.03484340490686674",
         "0.5342841774856806",
         "-0.006162831055647645",
         "0.059954383200437625"
        ],
        [
         "start_lat",
         "0.8762909376738466",
         "1.0",
         "0.9902147478833432",
         "0.9994762948230863",
         "0.07231880186603867",
         "-0.17087857726195302",
         "0.002177792751327882",
         "0.0056436719287069614",
         "0.06772577672968758",
         "-0.040700788524477005",
         "0.6100986260035202",
         "-0.00823215114785538",
         "0.0715772393069597"
        ],
        [
         "end_lng",
         "0.8672581306886108",
         "0.9902147478833432",
         "1.0",
         "0.9901241875124043",
         "0.10863689272227303",
         "-0.1799842303676649",
         "0.002856639113527352",
         "0.005719845351824145",
         "0.067089048469957",
         "-0.0404620652306465",
         "0.6044591663110478",
         "-0.009169647703331443",
         "0.07019974236601302"
        ],
        [
         "end_lat",
         "0.8761566741918999",
         "0.9994762948230863",
         "0.9901241875124043",
         "1.0",
         "0.07222300883688328",
         "-0.1716124901252358",
         "0.0004913146134674099",
         "0.00648019919702241",
         "0.0676705822416966",
         "-0.04060947371449525",
         "0.609962740583454",
         "-0.008239134243795156",
         "0.07168183281562733"
        ],
        [
         "distance_km",
         "0.5235726248668993",
         "0.07231880186603867",
         "0.10863689272227303",
         "0.07222300883688328",
         "1.0",
         "0.1013333778981886",
         "-0.0038569123419709837",
         "0.0015277190874688476",
         "0.004463407099565041",
         "-0.0029374021379063825",
         "0.043499893885636465",
         "0.00028312373265565607",
         "-0.005996356819920553"
        ],
        [
         "bearing",
         "-0.07788634529008644",
         "-0.17087857726195302",
         "-0.1799842303676649",
         "-0.1716124901252358",
         "0.1013333778981886",
         "1.0",
         "-0.06025862967245365",
         "-0.021926816251594095",
         "-0.0011858701492424514",
         "0.01223785623211351",
         "-0.09800762931744668",
         "0.0012068476268602254",
         "-0.0005114360715531614"
        ],
        [
         "hour_sin",
         "0.0006559720179265272",
         "0.002177792751327882",
         "0.002856639113527352",
         "0.0004913146134674099",
         "-0.0038569123419709837",
         "-0.06025862967245365",
         "1.0",
         "0.03276802036507381",
         "-0.06189446177470167",
         "-0.007906490927199574",
         "0.004728288695744991",
         "0.0008257524017972617",
         "-0.011524417557567113"
        ],
        [
         "hour_cos",
         "0.006466615969313741",
         "0.0056436719287069614",
         "0.005719845351824145",
         "0.00648019919702241",
         "0.0015277190874688476",
         "-0.021926816251594095",
         "0.03276802036507381",
         "1.0",
         "-0.08240358282768065",
         "-0.01464286492111351",
         "0.004974714715299943",
         "0.020765100714018492",
         "-0.01067960401199967"
        ],
        [
         "day_of_week_sin",
         "0.05932377863791295",
         "0.06772577672968758",
         "0.067089048469957",
         "0.0676705822416966",
         "0.004463407099565041",
         "-0.0011858701492424514",
         "-0.06189446177470167",
         "-0.08240358282768065",
         "1.0",
         "-0.011312577142243421",
         "0.03379492192149985",
         "-0.015936474965411444",
         "0.016503925868207484"
        ],
        [
         "day_of_week_cos",
         "-0.03484340490686674",
         "-0.040700788524477005",
         "-0.0404620652306465",
         "-0.04060947371449525",
         "-0.0029374021379063825",
         "0.01223785623211351",
         "-0.007906490927199574",
         "-0.01464286492111351",
         "-0.011312577142243421",
         "1.0",
         "-0.026069868868953457",
         "-0.005258382814563188",
         "-0.008634037253577875"
        ],
        [
         "month_sin",
         "0.5342841774856806",
         "0.6100986260035202",
         "0.6044591663110478",
         "0.609962740583454",
         "0.043499893885636465",
         "-0.09800762931744668",
         "0.004728288695744991",
         "0.004974714715299943",
         "0.03379492192149985",
         "-0.026069868868953457",
         "1.0",
         "-0.01580772320801539",
         "0.04378128066586437"
        ],
        [
         "month_cos",
         "-0.006162831055647645",
         "-0.00823215114785538",
         "-0.009169647703331443",
         "-0.008239134243795156",
         "0.00028312373265565607",
         "0.0012068476268602254",
         "0.0008257524017972617",
         "0.020765100714018492",
         "-0.015936474965411444",
         "-0.005258382814563188",
         "-0.01580772320801539",
         "1.0",
         "0.0001596427573016165"
        ],
        [
         "duration",
         "0.059954383200437625",
         "0.0715772393069597",
         "0.07019974236601302",
         "0.07168183281562733",
         "-0.005996356819920553",
         "-0.0005114360715531614",
         "-0.011524417557567113",
         "-0.01067960401199967",
         "0.016503925868207484",
         "-0.008634037253577875",
         "0.04378128066586437",
         "0.0001596427573016165",
         "1.0"
        ]
       ],
       "shape": {
        "columns": 13,
        "rows": 13
       }
      },
      "text/html": [
       "<div>\n",
       "<style scoped>\n",
       "    .dataframe tbody tr th:only-of-type {\n",
       "        vertical-align: middle;\n",
       "    }\n",
       "\n",
       "    .dataframe tbody tr th {\n",
       "        vertical-align: top;\n",
       "    }\n",
       "\n",
       "    .dataframe thead th {\n",
       "        text-align: right;\n",
       "    }\n",
       "</style>\n",
       "<table border=\"1\" class=\"dataframe\">\n",
       "  <thead>\n",
       "    <tr style=\"text-align: right;\">\n",
       "      <th></th>\n",
       "      <th>start_lng</th>\n",
       "      <th>start_lat</th>\n",
       "      <th>end_lng</th>\n",
       "      <th>end_lat</th>\n",
       "      <th>distance_km</th>\n",
       "      <th>bearing</th>\n",
       "      <th>hour_sin</th>\n",
       "      <th>hour_cos</th>\n",
       "      <th>day_of_week_sin</th>\n",
       "      <th>day_of_week_cos</th>\n",
       "      <th>month_sin</th>\n",
       "      <th>month_cos</th>\n",
       "      <th>duration</th>\n",
       "    </tr>\n",
       "  </thead>\n",
       "  <tbody>\n",
       "    <tr>\n",
       "      <th>start_lng</th>\n",
       "      <td>1.000000</td>\n",
       "      <td>0.876291</td>\n",
       "      <td>0.867258</td>\n",
       "      <td>0.876157</td>\n",
       "      <td>0.523573</td>\n",
       "      <td>-0.077886</td>\n",
       "      <td>0.000656</td>\n",
       "      <td>0.006467</td>\n",
       "      <td>0.059324</td>\n",
       "      <td>-0.034843</td>\n",
       "      <td>0.534284</td>\n",
       "      <td>-0.006163</td>\n",
       "      <td>0.059954</td>\n",
       "    </tr>\n",
       "    <tr>\n",
       "      <th>start_lat</th>\n",
       "      <td>0.876291</td>\n",
       "      <td>1.000000</td>\n",
       "      <td>0.990215</td>\n",
       "      <td>0.999476</td>\n",
       "      <td>0.072319</td>\n",
       "      <td>-0.170879</td>\n",
       "      <td>0.002178</td>\n",
       "      <td>0.005644</td>\n",
       "      <td>0.067726</td>\n",
       "      <td>-0.040701</td>\n",
       "      <td>0.610099</td>\n",
       "      <td>-0.008232</td>\n",
       "      <td>0.071577</td>\n",
       "    </tr>\n",
       "    <tr>\n",
       "      <th>end_lng</th>\n",
       "      <td>0.867258</td>\n",
       "      <td>0.990215</td>\n",
       "      <td>1.000000</td>\n",
       "      <td>0.990124</td>\n",
       "      <td>0.108637</td>\n",
       "      <td>-0.179984</td>\n",
       "      <td>0.002857</td>\n",
       "      <td>0.005720</td>\n",
       "      <td>0.067089</td>\n",
       "      <td>-0.040462</td>\n",
       "      <td>0.604459</td>\n",
       "      <td>-0.009170</td>\n",
       "      <td>0.070200</td>\n",
       "    </tr>\n",
       "    <tr>\n",
       "      <th>end_lat</th>\n",
       "      <td>0.876157</td>\n",
       "      <td>0.999476</td>\n",
       "      <td>0.990124</td>\n",
       "      <td>1.000000</td>\n",
       "      <td>0.072223</td>\n",
       "      <td>-0.171612</td>\n",
       "      <td>0.000491</td>\n",
       "      <td>0.006480</td>\n",
       "      <td>0.067671</td>\n",
       "      <td>-0.040609</td>\n",
       "      <td>0.609963</td>\n",
       "      <td>-0.008239</td>\n",
       "      <td>0.071682</td>\n",
       "    </tr>\n",
       "    <tr>\n",
       "      <th>distance_km</th>\n",
       "      <td>0.523573</td>\n",
       "      <td>0.072319</td>\n",
       "      <td>0.108637</td>\n",
       "      <td>0.072223</td>\n",
       "      <td>1.000000</td>\n",
       "      <td>0.101333</td>\n",
       "      <td>-0.003857</td>\n",
       "      <td>0.001528</td>\n",
       "      <td>0.004463</td>\n",
       "      <td>-0.002937</td>\n",
       "      <td>0.043500</td>\n",
       "      <td>0.000283</td>\n",
       "      <td>-0.005996</td>\n",
       "    </tr>\n",
       "    <tr>\n",
       "      <th>bearing</th>\n",
       "      <td>-0.077886</td>\n",
       "      <td>-0.170879</td>\n",
       "      <td>-0.179984</td>\n",
       "      <td>-0.171612</td>\n",
       "      <td>0.101333</td>\n",
       "      <td>1.000000</td>\n",
       "      <td>-0.060259</td>\n",
       "      <td>-0.021927</td>\n",
       "      <td>-0.001186</td>\n",
       "      <td>0.012238</td>\n",
       "      <td>-0.098008</td>\n",
       "      <td>0.001207</td>\n",
       "      <td>-0.000511</td>\n",
       "    </tr>\n",
       "    <tr>\n",
       "      <th>hour_sin</th>\n",
       "      <td>0.000656</td>\n",
       "      <td>0.002178</td>\n",
       "      <td>0.002857</td>\n",
       "      <td>0.000491</td>\n",
       "      <td>-0.003857</td>\n",
       "      <td>-0.060259</td>\n",
       "      <td>1.000000</td>\n",
       "      <td>0.032768</td>\n",
       "      <td>-0.061894</td>\n",
       "      <td>-0.007906</td>\n",
       "      <td>0.004728</td>\n",
       "      <td>0.000826</td>\n",
       "      <td>-0.011524</td>\n",
       "    </tr>\n",
       "    <tr>\n",
       "      <th>hour_cos</th>\n",
       "      <td>0.006467</td>\n",
       "      <td>0.005644</td>\n",
       "      <td>0.005720</td>\n",
       "      <td>0.006480</td>\n",
       "      <td>0.001528</td>\n",
       "      <td>-0.021927</td>\n",
       "      <td>0.032768</td>\n",
       "      <td>1.000000</td>\n",
       "      <td>-0.082404</td>\n",
       "      <td>-0.014643</td>\n",
       "      <td>0.004975</td>\n",
       "      <td>0.020765</td>\n",
       "      <td>-0.010680</td>\n",
       "    </tr>\n",
       "    <tr>\n",
       "      <th>day_of_week_sin</th>\n",
       "      <td>0.059324</td>\n",
       "      <td>0.067726</td>\n",
       "      <td>0.067089</td>\n",
       "      <td>0.067671</td>\n",
       "      <td>0.004463</td>\n",
       "      <td>-0.001186</td>\n",
       "      <td>-0.061894</td>\n",
       "      <td>-0.082404</td>\n",
       "      <td>1.000000</td>\n",
       "      <td>-0.011313</td>\n",
       "      <td>0.033795</td>\n",
       "      <td>-0.015936</td>\n",
       "      <td>0.016504</td>\n",
       "    </tr>\n",
       "    <tr>\n",
       "      <th>day_of_week_cos</th>\n",
       "      <td>-0.034843</td>\n",
       "      <td>-0.040701</td>\n",
       "      <td>-0.040462</td>\n",
       "      <td>-0.040609</td>\n",
       "      <td>-0.002937</td>\n",
       "      <td>0.012238</td>\n",
       "      <td>-0.007906</td>\n",
       "      <td>-0.014643</td>\n",
       "      <td>-0.011313</td>\n",
       "      <td>1.000000</td>\n",
       "      <td>-0.026070</td>\n",
       "      <td>-0.005258</td>\n",
       "      <td>-0.008634</td>\n",
       "    </tr>\n",
       "    <tr>\n",
       "      <th>month_sin</th>\n",
       "      <td>0.534284</td>\n",
       "      <td>0.610099</td>\n",
       "      <td>0.604459</td>\n",
       "      <td>0.609963</td>\n",
       "      <td>0.043500</td>\n",
       "      <td>-0.098008</td>\n",
       "      <td>0.004728</td>\n",
       "      <td>0.004975</td>\n",
       "      <td>0.033795</td>\n",
       "      <td>-0.026070</td>\n",
       "      <td>1.000000</td>\n",
       "      <td>-0.015808</td>\n",
       "      <td>0.043781</td>\n",
       "    </tr>\n",
       "    <tr>\n",
       "      <th>month_cos</th>\n",
       "      <td>-0.006163</td>\n",
       "      <td>-0.008232</td>\n",
       "      <td>-0.009170</td>\n",
       "      <td>-0.008239</td>\n",
       "      <td>0.000283</td>\n",
       "      <td>0.001207</td>\n",
       "      <td>0.000826</td>\n",
       "      <td>0.020765</td>\n",
       "      <td>-0.015936</td>\n",
       "      <td>-0.005258</td>\n",
       "      <td>-0.015808</td>\n",
       "      <td>1.000000</td>\n",
       "      <td>0.000160</td>\n",
       "    </tr>\n",
       "    <tr>\n",
       "      <th>duration</th>\n",
       "      <td>0.059954</td>\n",
       "      <td>0.071577</td>\n",
       "      <td>0.070200</td>\n",
       "      <td>0.071682</td>\n",
       "      <td>-0.005996</td>\n",
       "      <td>-0.000511</td>\n",
       "      <td>-0.011524</td>\n",
       "      <td>-0.010680</td>\n",
       "      <td>0.016504</td>\n",
       "      <td>-0.008634</td>\n",
       "      <td>0.043781</td>\n",
       "      <td>0.000160</td>\n",
       "      <td>1.000000</td>\n",
       "    </tr>\n",
       "  </tbody>\n",
       "</table>\n",
       "</div>"
      ],
      "text/plain": [
       "                 start_lng  start_lat   end_lng   end_lat  distance_km  \\\n",
       "start_lng         1.000000   0.876291  0.867258  0.876157     0.523573   \n",
       "start_lat         0.876291   1.000000  0.990215  0.999476     0.072319   \n",
       "end_lng           0.867258   0.990215  1.000000  0.990124     0.108637   \n",
       "end_lat           0.876157   0.999476  0.990124  1.000000     0.072223   \n",
       "distance_km       0.523573   0.072319  0.108637  0.072223     1.000000   \n",
       "bearing          -0.077886  -0.170879 -0.179984 -0.171612     0.101333   \n",
       "hour_sin          0.000656   0.002178  0.002857  0.000491    -0.003857   \n",
       "hour_cos          0.006467   0.005644  0.005720  0.006480     0.001528   \n",
       "day_of_week_sin   0.059324   0.067726  0.067089  0.067671     0.004463   \n",
       "day_of_week_cos  -0.034843  -0.040701 -0.040462 -0.040609    -0.002937   \n",
       "month_sin         0.534284   0.610099  0.604459  0.609963     0.043500   \n",
       "month_cos        -0.006163  -0.008232 -0.009170 -0.008239     0.000283   \n",
       "duration          0.059954   0.071577  0.070200  0.071682    -0.005996   \n",
       "\n",
       "                  bearing  hour_sin  hour_cos  day_of_week_sin  \\\n",
       "start_lng       -0.077886  0.000656  0.006467         0.059324   \n",
       "start_lat       -0.170879  0.002178  0.005644         0.067726   \n",
       "end_lng         -0.179984  0.002857  0.005720         0.067089   \n",
       "end_lat         -0.171612  0.000491  0.006480         0.067671   \n",
       "distance_km      0.101333 -0.003857  0.001528         0.004463   \n",
       "bearing          1.000000 -0.060259 -0.021927        -0.001186   \n",
       "hour_sin        -0.060259  1.000000  0.032768        -0.061894   \n",
       "hour_cos        -0.021927  0.032768  1.000000        -0.082404   \n",
       "day_of_week_sin -0.001186 -0.061894 -0.082404         1.000000   \n",
       "day_of_week_cos  0.012238 -0.007906 -0.014643        -0.011313   \n",
       "month_sin       -0.098008  0.004728  0.004975         0.033795   \n",
       "month_cos        0.001207  0.000826  0.020765        -0.015936   \n",
       "duration        -0.000511 -0.011524 -0.010680         0.016504   \n",
       "\n",
       "                 day_of_week_cos  month_sin  month_cos  duration  \n",
       "start_lng              -0.034843   0.534284  -0.006163  0.059954  \n",
       "start_lat              -0.040701   0.610099  -0.008232  0.071577  \n",
       "end_lng                -0.040462   0.604459  -0.009170  0.070200  \n",
       "end_lat                -0.040609   0.609963  -0.008239  0.071682  \n",
       "distance_km            -0.002937   0.043500   0.000283 -0.005996  \n",
       "bearing                 0.012238  -0.098008   0.001207 -0.000511  \n",
       "hour_sin               -0.007906   0.004728   0.000826 -0.011524  \n",
       "hour_cos               -0.014643   0.004975   0.020765 -0.010680  \n",
       "day_of_week_sin        -0.011313   0.033795  -0.015936  0.016504  \n",
       "day_of_week_cos         1.000000  -0.026070  -0.005258 -0.008634  \n",
       "month_sin              -0.026070   1.000000  -0.015808  0.043781  \n",
       "month_cos              -0.005258  -0.015808   1.000000  0.000160  \n",
       "duration               -0.008634   0.043781   0.000160  1.000000  "
      ]
     },
     "execution_count": 39,
     "metadata": {},
     "output_type": "execute_result"
    }
   ],
   "source": [
    "corr_matrix"
   ]
  },
  {
   "cell_type": "code",
   "execution_count": 40,
   "metadata": {},
   "outputs": [
    {
     "data": {
      "text/plain": [
       "<Figure size 1000x800 with 0 Axes>"
      ]
     },
     "metadata": {},
     "output_type": "display_data"
    },
    {
     "data": {
      "image/png": "[encoded data removed]",
      "text/plain": [
       "<Figure size 480x480 with 2 Axes>"
      ]
     },
     "metadata": {},
     "output_type": "display_data"
    }
   ],
   "source": [
    "plt.figure(figsize=(10, 8))\n",
    "plt.matshow(corr_matrix)#, fignum=1)\n",
    "plt.title(\"Correlation Matrix\", pad=20)\n",
    "plt.colorbar()\n",
    "plt.xticks(range(len(corr_matrix.columns)), corr_matrix.columns, rotation=90)\n",
    "plt.yticks(range(len(corr_matrix.columns)), corr_matrix.columns)\n",
    "plt.grid()\n",
    "plt.show()"
   ]
  },
  {
   "cell_type": "code",
   "execution_count": 41,
   "metadata": {},
   "outputs": [],
   "source": [
    "features = ['end_lng', 'end_lat', 'distance_km', 'bearing',\n",
    "             'hour_sin', 'hour_cos', 'day_of_week_sin', 'day_of_week_cos', 'month_sin', 'month_cos']\n",
    "\n",
    "X = train[features]"
   ]
  },
  {
   "cell_type": "code",
   "execution_count": 42,
   "metadata": {},
   "outputs": [
    {
     "name": "stdout",
     "output_type": "stream",
     "text": [
      "\n",
      "Feature Importances from Random Forest:\n",
      "distance_km        0.234987\n",
      "end_lat            0.194117\n",
      "bearing            0.193799\n",
      "end_lng            0.183053\n",
      "hour_cos           0.038903\n",
      "hour_sin           0.036834\n",
      "month_sin          0.033689\n",
      "month_cos          0.032747\n",
      "day_of_week_sin    0.030067\n",
      "day_of_week_cos    0.021803\n",
      "dtype: float64\n"
     ]
    }
   ],
   "source": [
    "rf = RandomForestRegressor(n_estimators=100, random_state=42)\n",
    "rf.fit(X, y)\n",
    "importances = rf.feature_importances_\n",
    "feature_importance = pd.Series(importances, index=features).sort_values(ascending=False)\n",
    "\n",
    "print(\"\\nFeature Importances from Random Forest:\")\n",
    "print(feature_importance)"
   ]
  },
  {
   "cell_type": "markdown",
   "metadata": {},
   "source": [
    "## Model-Based Feature Importance:  \n",
    "- A tree-based model (Random Forest) is used to estimate feature importance scores. These scores indicate how much each feature contributes to reducing the prediction error."
   ]
  },
  {
   "cell_type": "markdown",
   "metadata": {},
   "source": [
    "## Dimensionality Reduction (Optional):  \n",
    "- If the feature space is high-dimensional or exhibits multicollinearity, techniques like Principal Component Analysis (PCA) can be applied to reduce the dimensionality while preserving most of the variance."
   ]
  },
  {
   "cell_type": "code",
   "execution_count": 43,
   "metadata": {},
   "outputs": [],
   "source": [
    "# FEATURE NORMALIZATION????"
   ]
  },
  {
   "cell_type": "markdown",
   "metadata": {},
   "source": [
    "# Step 6: Progressive Model Selection\n",
    "\n",
    "In this step, we start with a simple baseline model and progressively try more complex models if the initial performance is unsatisfactory."
   ]
  },
  {
   "cell_type": "code",
   "execution_count": 44,
   "metadata": {},
   "outputs": [],
   "source": [
    "X_train, X_val, y_train, y_val = train_test_split(X, y, test_size=0.2, random_state=42)"
   ]
  },
  {
   "cell_type": "code",
   "execution_count": 45,
   "metadata": {},
   "outputs": [],
   "source": [
    "# 1)Linear Regression\n",
    "# 2) Ridge Regression\n",
    "# 3) Lasso Regression\n",
    "# 4) ElasticNet Regression\n",
    "# 5) Bayesian Ridge Regression\n",
    "# 6) Decision Tree Regression\n",
    "# 7) Random Forest Regression\n",
    "# 8) Gradient Boosting Regression\n",
    "# 9) XGBoost Regression\n",
    "# 10) LightGBM Regression\n",
    "# 11) CatBoost Regression\n",
    "# 12) AdaBoost Regression\n",
    "# 13) HistGradientBoosting Regression\n",
    "# 14) K-Nearest Neighbors Regression\n",
    "# 15) Support Vector Regression (SVR)"
   ]
  },
  {
   "cell_type": "markdown",
   "metadata": {},
   "source": [
    "## Baseline Model (Simple Model):  \n",
    "- We begin with a basic linear regression model. This model is quick to train, easy to interpret, and provides a baseline performance level."
   ]
  },
  {
   "cell_type": "code",
   "execution_count": 46,
   "metadata": {},
   "outputs": [
    {
     "name": "stdout",
     "output_type": "stream",
     "text": [
      "Evaluating Baseline Model: Linear Regression\n",
      "Baseline Linear Regression RMSE: Mean = 3299.98, Std = 99.09\n"
     ]
    }
   ],
   "source": [
    "print(\"Evaluating Baseline Model: Linear Regression\")\n",
    "baseline_model = LinearRegression()\n",
    "baseline_model.fit(X_train, y_train)\n",
    "# Using negative mean squared error scoring; RMSE = sqrt(-score)\n",
    "baseline_scores = cross_val_score(baseline_model, X_train, y_train, cv=5, scoring='neg_mean_squared_error')\n",
    "baseline_rmse = np.sqrt(-baseline_scores)\n",
    "print(f\"Baseline Linear Regression RMSE: Mean = {baseline_rmse.mean():.2f}, Std = {baseline_rmse.std():.2f}\")"
   ]
  },
  {
   "cell_type": "code",
   "execution_count": 47,
   "metadata": {},
   "outputs": [
    {
     "data": {
      "text/plain": [
       "array([-1.81186887e+00,  2.14415100e+02, -4.56186710e-02,  4.81245846e-01,\n",
       "       -5.00794465e+01, -4.93273073e+01,  4.49065860e+01, -3.83705282e+01,\n",
       "       -1.40733297e+00,  2.43562277e+01])"
      ]
     },
     "execution_count": 47,
     "metadata": {},
     "output_type": "execute_result"
    }
   ],
   "source": [
    "# get coefs\n",
    "baseline_model.coef_"
   ]
  },
  {
   "cell_type": "markdown",
   "metadata": {},
   "source": [
    "## Performance Evaluation:  \n",
    "- We evaluate the baseline using 5-fold cross-validation with RMSE as the metric. This gives us an indication of whether a more complex model is needed."
   ]
  },
  {
   "cell_type": "markdown",
   "metadata": {},
   "source": [
    "## Progressive Complexity:  \n",
    "- If the baseline model's performance is not acceptable, we can then try more sophisticated models, such as Random Forests, SVR, or Neural Networks. These models can capture non-linearities and interactions better but come at the cost of increased complexity and tuning effort."
   ]
  },
  {
   "cell_type": "code",
   "execution_count": null,
   "metadata": {},
   "outputs": [
    {
     "name": "stdout",
     "output_type": "stream",
     "text": [
      "\n",
      "Evaluating Complex Model: Random Forest Regressor\n",
      "Random Forest RMSE: Mean = 3705.48, Std = 82.28\n"
     ]
    }
   ],
   "source": [
    "# If the performance is unsatisfactory, try a more complex model.\n",
    "print(\"\\nEvaluating Complex Model: Random Forest Regressor\")\n",
    "rf_model = RandomForestRegressor(n_estimators=100, random_state=42)\n",
    "rf_model.fit(X_train, y_train)\n",
    "# why neg mse?\n",
    "rf_scores = cross_val_score(rf_model, X_train, y_train, cv=5, scoring='neg_mean_squared_error')\n",
    "rf_rmse = np.sqrt(-rf_scores)\n",
    "print(f\"Random Forest RMSE: Mean = {rf_rmse.mean():.2f}, Std = {rf_rmse.std():.2f}\")"
   ]
  },
  {
   "cell_type": "code",
   "execution_count": null,
   "metadata": {},
   "outputs": [
    {
     "data": {
      "application/vnd.microsoft.datawrangler.viewer.v0+json": {
       "columns": [
        {
         "name": "index",
         "rawType": "int64",
         "type": "integer"
        },
        {
         "name": "end_lng",
         "rawType": "float64",
         "type": "float"
        },
        {
         "name": "end_lat",
         "rawType": "float64",
         "type": "float"
        },
        {
         "name": "distance_km",
         "rawType": "float64",
         "type": "float"
        },
        {
         "name": "bearing",
         "rawType": "float64",
         "type": "float"
        },
        {
         "name": "hour_sin",
         "rawType": "float64",
         "type": "float"
        },
        {
         "name": "hour_cos",
         "rawType": "float64",
         "type": "float"
        },
        {
         "name": "day_of_week_sin",
         "rawType": "float64",
         "type": "float"
        },
        {
         "name": "day_of_week_cos",
         "rawType": "float64",
         "type": "float"
        },
        {
         "name": "month_sin",
         "rawType": "float64",
         "type": "float"
        },
        {
         "name": "month_cos",
         "rawType": "float64",
         "type": "float"
        }
       ],
       "conversionMethod": "pd.DataFrame",
       "ref": "a5f79258-8991-42b8-9d60-bd2701ecf4fa",
       "rows": [
        [
         "0",
         "-73.962097",
         "40.7645",
         "5.4016172826540165",
         "37.99837863169955",
         "-0.25881904510252157",
         "0.9659258262890681",
         "-0.9749279121818236",
         "-0.2225209339563146",
         "1.2246467991473532e-16",
         "-1.0"
        ],
        [
         "1",
         "-122.42807",
         "37.777023",
         "2.307671358399828",
         "82.12318792943853",
         "0.25881904510252074",
         "0.9659258262890683",
         "0.0",
         "1.0",
         "-1.0",
         "-1.8369701987210297e-16"
        ],
        [
         "2",
         "-73.789917",
         "40.646965",
         "19.58024847760886",
         "126.27983089453448",
         "0.258819045102521",
         "-0.9659258262890682",
         "-0.9749279121818236",
         "-0.2225209339563146",
         "-1.0",
         "-1.8369701987210297e-16"
        ],
        [
         "3",
         "-122.430198",
         "37.759545",
         "2.9703664125960874",
         "225.9381499109923",
         "0.9659258262890683",
         "0.25881904510252074",
         "0.0",
         "1.0",
         "-1.0",
         "-1.8369701987210297e-16"
        ],
        [
         "4",
         "-73.872711",
         "40.774292",
         "10.089006862172191",
         "74.6120295138241",
         "0.7071067811865476",
         "-0.7071067811865475",
         "0.43388373911755823",
         "-0.900968867902419",
         "0.8660254037844386",
         "0.5000000000000001"
        ],
        [
         "5",
         "-122.39096200000002",
         "37.780363",
         "2.3564271520333953",
         "112.20108972892075",
         "1.2246467991473532e-16",
         "-1.0",
         "0.9749279121818236",
         "-0.22252093395631434",
         "-1.0",
         "-1.8369701987210297e-16"
        ],
        [
         "6",
         "-73.984138",
         "40.775219",
         "3.721675208043498",
         "28.964129882057307",
         "-0.7071067811865471",
         "-0.7071067811865479",
         "-0.9749279121818236",
         "-0.2225209339563146",
         "1.2246467991473532e-16",
         "-1.0"
        ],
        [
         "7",
         "-122.433437",
         "37.787973",
         "2.16876294027344",
         "271.98546630159296",
         "-0.8660254037844384",
         "-0.5000000000000004",
         "-0.9749279121818236",
         "-0.2225209339563146",
         "-1.0",
         "-1.8369701987210297e-16"
        ],
        [
         "8",
         "-74.004333",
         "40.742447",
         "5.445425579965006",
         "232.7253885833598",
         "0.25881904510252074",
         "0.9659258262890683",
         "-0.9749279121818236",
         "-0.2225209339563146",
         "-0.8660254037844386",
         "0.5000000000000001"
        ],
        [
         "9",
         "-73.99472",
         "40.75037800000001",
         "2.1964749538956916",
         "327.60577230198635",
         "-1.0",
         "-1.8369701987210297e-16",
         "0.9749279121818236",
         "-0.22252093395631434",
         "-2.4492935982947064e-16",
         "1.0"
        ],
        [
         "10",
         "-73.986168",
         "40.730629",
         "1.0714050267838036",
         "140.92607169038212",
         "-0.9659258262890684",
         "0.2588190451025203",
         "0.43388373911755823",
         "-0.900968867902419",
         "-0.8660254037844386",
         "0.5000000000000001"
        ],
        [
         "11",
         "-73.98336",
         "40.734337",
         "3.9332833508071343",
         "200.83526596100887",
         "-0.9659258262890683",
         "-0.25881904510252063",
         "0.9749279121818236",
         "-0.22252093395631434",
         "1.0",
         "6.123233995736766e-17"
        ],
        [
         "12",
         "-73.99363699999998",
         "40.741711",
         "0.8972712732092132",
         "29.480451371121262",
         "-0.5000000000000004",
         "0.8660254037844384",
         "-0.9749279121818236",
         "-0.2225209339563146",
         "-0.4999999999999997",
         "-0.8660254037844388"
        ],
        [
         "13",
         "-73.96266899999998",
         "40.766869",
         "2.5782458432756523",
         "64.36397461895433",
         "0.8660254037844386",
         "0.5000000000000001",
         "0.7818314824680298",
         "0.6234898018587336",
         "-0.5000000000000004",
         "0.8660254037844384"
        ],
        [
         "14",
         "-122.429302",
         "37.794113",
         "2.395255577545064",
         "278.0021005848389",
         "-0.7071067811865471",
         "-0.7071067811865479",
         "0.0",
         "1.0",
         "-1.0",
         "-1.8369701987210297e-16"
        ],
        [
         "15",
         "-122.408472",
         "37.789182",
         "1.1688586541408998",
         "184.26020552121452",
         "-0.25881904510252157",
         "0.9659258262890681",
         "-0.9749279121818236",
         "-0.2225209339563146",
         "-1.0",
         "-1.8369701987210297e-16"
        ],
        [
         "16",
         "-73.97094",
         "40.761719",
         "0.9931287191863123",
         "259.6123780358099",
         "0.49999999999999994",
         "-0.8660254037844387",
         "0.7818314824680298",
         "0.6234898018587336",
         "0.8660254037844387",
         "-0.4999999999999998"
        ],
        [
         "17",
         "-73.982582",
         "40.777367",
         "3.7586761342477386",
         "11.709657665120346",
         "-0.8660254037844386",
         "0.5000000000000001",
         "-0.7818314824680299",
         "0.6234898018587334",
         "-1.0",
         "-1.8369701987210297e-16"
        ],
        [
         "18",
         "-73.97419000000002",
         "40.764637",
         "2.8956655763525503",
         "61.844377847229055",
         "-0.8660254037844384",
         "-0.5000000000000004",
         "0.9749279121818236",
         "-0.22252093395631434",
         "-1.0",
         "-1.8369701987210297e-16"
        ],
        [
         "19",
         "-122.392852",
         "37.791492",
         "4.344788148259729",
         "102.91962538912117",
         "-0.7071067811865471",
         "-0.7071067811865479",
         "-0.433883739117558",
         "-0.9009688679024191",
         "-1.0",
         "-1.8369701987210297e-16"
        ],
        [
         "20",
         "-73.98326899999998",
         "40.731613",
         "1.0116955618184964",
         "123.55541412983013",
         "1.2246467991473532e-16",
         "-1.0",
         "-0.9749279121818236",
         "-0.2225209339563146",
         "0.49999999999999994",
         "0.8660254037844387"
        ],
        [
         "21",
         "-74.02314",
         "40.63335",
         "10.545977004491904",
         "193.1718274412145",
         "0.25881904510252074",
         "0.9659258262890683",
         "-0.7818314824680299",
         "0.6234898018587334",
         "0.8660254037844387",
         "-0.4999999999999998"
        ],
        [
         "22",
         "-73.985435",
         "40.755123",
         "0.9455022929251886",
         "319.27064807983504",
         "-0.9659258262890683",
         "-0.25881904510252063",
         "0.9749279121818236",
         "-0.22252093395631434",
         "0.8660254037844386",
         "0.5000000000000001"
        ],
        [
         "23",
         "-73.967384",
         "40.800217",
         "1.8300754189658806",
         "322.18507415755494",
         "0.8660254037844387",
         "-0.4999999999999998",
         "-0.433883739117558",
         "-0.9009688679024191",
         "0.49999999999999994",
         "-0.8660254037844387"
        ],
        [
         "24",
         "-73.975922",
         "40.760338",
         "1.2333671091689107",
         "150.41404380326452",
         "-0.4999999999999997",
         "-0.8660254037844388",
         "0.9749279121818236",
         "-0.22252093395631434",
         "0.8660254037844386",
         "0.5000000000000001"
        ],
        [
         "25",
         "-122.390903",
         "37.784217",
         "5.0872165818935775",
         "49.54041753458847",
         "-0.5000000000000004",
         "0.8660254037844384",
         "-0.433883739117558",
         "-0.9009688679024191",
         "-1.0",
         "-1.8369701987210297e-16"
        ],
        [
         "26",
         "-73.992859",
         "40.746304",
         "1.16241917675759",
         "19.00491831671053",
         "1.2246467991473532e-16",
         "-1.0",
         "0.43388373911755823",
         "-0.900968867902419",
         "0.49999999999999994",
         "0.8660254037844387"
        ],
        [
         "27",
         "-73.97995",
         "40.785976",
         "1.1530709115676139",
         "236.8925575492144",
         "-1.0",
         "-1.8369701987210297e-16",
         "-0.433883739117558",
         "-0.9009688679024191",
         "-2.4492935982947064e-16",
         "1.0"
        ],
        [
         "28",
         "-73.95665699999998",
         "40.762886",
         "1.9479894305780554",
         "53.735682248420915",
         "-0.5000000000000004",
         "0.8660254037844384",
         "-0.7818314824680299",
         "0.6234898018587334",
         "-0.8660254037844386",
         "0.5000000000000001"
        ],
        [
         "29",
         "-73.965858",
         "40.758522",
         "2.18778487462131",
         "208.98540153035032",
         "0.0",
         "1.0",
         "-0.9749279121818236",
         "-0.2225209339563146",
         "1.0",
         "6.123233995736766e-17"
        ],
        [
         "30",
         "-122.212672",
         "37.71216",
         "20.871534133682516",
         "116.18838208941742",
         "0.9659258262890683",
         "0.25881904510252074",
         "-0.9749279121818236",
         "-0.2225209339563146",
         "-1.0",
         "-1.8369701987210297e-16"
        ],
        [
         "31",
         "-122.413607",
         "37.788755",
         "2.1528888777586563",
         "195.88571419017018",
         "-1.0",
         "-1.8369701987210297e-16",
         "-0.7818314824680299",
         "0.6234898018587334",
         "-1.0",
         "-1.8369701987210297e-16"
        ],
        [
         "32",
         "-73.98354300000003",
         "40.743462",
         "2.259012718861027",
         "221.48180304750588",
         "-0.7071067811865477",
         "0.7071067811865474",
         "-0.433883739117558",
         "-0.9009688679024191",
         "0.49999999999999994",
         "0.8660254037844387"
        ],
        [
         "33",
         "-122.402705",
         "37.78676",
         "18.964448592732268",
         "355.0650963126891",
         "-0.5000000000000004",
         "0.8660254037844384",
         "-0.9749279121818236",
         "-0.2225209339563146",
         "-1.0",
         "-1.8369701987210297e-16"
        ],
        [
         "34",
         "-73.987976",
         "40.741077",
         "2.80449204535243",
         "212.6887114011935",
         "-0.7071067811865477",
         "0.7071067811865474",
         "-0.9749279121818236",
         "-0.2225209339563146",
         "-2.4492935982947064e-16",
         "1.0"
        ],
        [
         "35",
         "-122.421543",
         "37.785407",
         "19.183941132509172",
         "350.34087519367824",
         "-0.9659258262890684",
         "0.2588190451025203",
         "0.7818314824680298",
         "0.6234898018587336",
         "-1.0",
         "-1.8369701987210297e-16"
        ],
        [
         "36",
         "-73.970619",
         "40.786652",
         "3.1127056840739438",
         "19.80150317969975",
         "0.25881904510252074",
         "0.9659258262890683",
         "0.7818314824680298",
         "0.6234898018587336",
         "-1.0",
         "-1.8369701987210297e-16"
        ],
        [
         "37",
         "-122.409727",
         "37.785463",
         "2.282181637115959",
         "189.7700933036666",
         "-0.7071067811865477",
         "0.7071067811865474",
         "-0.7818314824680299",
         "0.6234898018587334",
         "-1.0",
         "-1.8369701987210297e-16"
        ],
        [
         "38",
         "-73.981606",
         "40.740955",
         "1.6173615134031534",
         "81.58135863615809",
         "-0.9659258262890684",
         "0.2588190451025203",
         "-0.9749279121818236",
         "-0.2225209339563146",
         "1.2246467991473532e-16",
         "-1.0"
        ],
        [
         "39",
         "-122.41043799999998",
         "37.787095",
         "0.7701156393764643",
         "316.31187001717296",
         "-0.9659258262890684",
         "0.2588190451025203",
         "-0.9749279121818236",
         "-0.2225209339563146",
         "-1.0",
         "-1.8369701987210297e-16"
        ],
        [
         "40",
         "-122.446542",
         "37.77008",
         "3.926587579399779",
         "243.370036130324",
         "-0.9659258262890683",
         "-0.25881904510252063",
         "0.9749279121818236",
         "-0.22252093395631434",
         "-1.0",
         "-1.8369701987210297e-16"
        ],
        [
         "41",
         "-73.979591",
         "40.727528",
         "3.0774109975830304",
         "136.75163088314946",
         "-0.25881904510252157",
         "0.9659258262890681",
         "-0.7818314824680299",
         "0.6234898018587334",
         "0.8660254037844386",
         "0.5000000000000001"
        ],
        [
         "42",
         "-122.412223",
         "37.788828",
         "4.393921977171044",
         "9.629403342094122",
         "0.0",
         "1.0",
         "-0.7818314824680299",
         "0.6234898018587334",
         "-1.0",
         "-1.8369701987210297e-16"
        ],
        [
         "43",
         "-73.994759",
         "40.740295",
         "1.1492220489874103",
         "305.7556780701631",
         "-0.8660254037844384",
         "-0.5000000000000004",
         "0.9749279121818236",
         "-0.22252093395631434",
         "1.2246467991473532e-16",
         "-1.0"
        ],
        [
         "44",
         "-122.404855",
         "37.806373",
         "2.01977998795833",
         "9.713091462289526",
         "-0.4999999999999997",
         "-0.8660254037844388",
         "-0.433883739117558",
         "-0.9009688679024191",
         "-1.0",
         "-1.8369701987210297e-16"
        ],
        [
         "45",
         "-73.99324",
         "40.743927",
         "1.6602303841125192",
         "202.1573508756616",
         "-0.25881904510252157",
         "0.9659258262890681",
         "-0.433883739117558",
         "-0.9009688679024191",
         "1.2246467991473532e-16",
         "-1.0"
        ],
        [
         "46",
         "-73.97403",
         "40.778984",
         "1.1429645444010847",
         "209.25857903766976",
         "-0.7071067811865477",
         "0.7071067811865474",
         "0.9749279121818236",
         "-0.22252093395631434",
         "-0.5000000000000004",
         "0.8660254037844384"
        ],
        [
         "47",
         "-73.993073",
         "40.748466",
         "5.623977668220002",
         "206.59217907978194",
         "-0.7071067811865477",
         "0.7071067811865474",
         "0.9749279121818236",
         "-0.22252093395631434",
         "-0.5000000000000004",
         "0.8660254037844384"
        ],
        [
         "48",
         "-122.467335",
         "37.769868",
         "6.507402326623194",
         "248.04965008020096",
         "-0.2588190451025208",
         "-0.9659258262890683",
         "0.43388373911755823",
         "-0.900968867902419",
         "-1.0",
         "-1.8369701987210297e-16"
        ],
        [
         "49",
         "-122.414542",
         "37.756457",
         "3.782567902913324",
         "203.77514503421733",
         "-0.25881904510252157",
         "0.9659258262890681",
         "0.9749279121818236",
         "-0.22252093395631434",
         "-1.0",
         "-1.8369701987210297e-16"
        ]
       ],
       "shape": {
        "columns": 10,
        "rows": 30000
       }
      },
      "text/html": [
       "<div>\n",
       "<style scoped>\n",
       "    .dataframe tbody tr th:only-of-type {\n",
       "        vertical-align: middle;\n",
       "    }\n",
       "\n",
       "    .dataframe tbody tr th {\n",
       "        vertical-align: top;\n",
       "    }\n",
       "\n",
       "    .dataframe thead th {\n",
       "        text-align: right;\n",
       "    }\n",
       "</style>\n",
       "<table border=\"1\" class=\"dataframe\">\n",
       "  <thead>\n",
       "    <tr style=\"text-align: right;\">\n",
       "      <th></th>\n",
       "      <th>end_lng</th>\n",
       "      <th>end_lat</th>\n",
       "      <th>distance_km</th>\n",
       "      <th>bearing</th>\n",
       "      <th>hour_sin</th>\n",
       "      <th>hour_cos</th>\n",
       "      <th>day_of_week_sin</th>\n",
       "      <th>day_of_week_cos</th>\n",
       "      <th>month_sin</th>\n",
       "      <th>month_cos</th>\n",
       "    </tr>\n",
       "  </thead>\n",
       "  <tbody>\n",
       "    <tr>\n",
       "      <th>0</th>\n",
       "      <td>-73.962097</td>\n",
       "      <td>40.764500</td>\n",
       "      <td>5.401617</td>\n",
       "      <td>37.998379</td>\n",
       "      <td>-0.258819</td>\n",
       "      <td>0.965926</td>\n",
       "      <td>-0.974928</td>\n",
       "      <td>-0.222521</td>\n",
       "      <td>1.224647e-16</td>\n",
       "      <td>-1.000000e+00</td>\n",
       "    </tr>\n",
       "    <tr>\n",
       "      <th>1</th>\n",
       "      <td>-122.428070</td>\n",
       "      <td>37.777023</td>\n",
       "      <td>2.307671</td>\n",
       "      <td>82.123188</td>\n",
       "      <td>0.258819</td>\n",
       "      <td>0.965926</td>\n",
       "      <td>0.000000</td>\n",
       "      <td>1.000000</td>\n",
       "      <td>-1.000000e+00</td>\n",
       "      <td>-1.836970e-16</td>\n",
       "    </tr>\n",
       "    <tr>\n",
       "      <th>2</th>\n",
       "      <td>-73.789917</td>\n",
       "      <td>40.646965</td>\n",
       "      <td>19.580248</td>\n",
       "      <td>126.279831</td>\n",
       "      <td>0.258819</td>\n",
       "      <td>-0.965926</td>\n",
       "      <td>-0.974928</td>\n",
       "      <td>-0.222521</td>\n",
       "      <td>-1.000000e+00</td>\n",
       "      <td>-1.836970e-16</td>\n",
       "    </tr>\n",
       "    <tr>\n",
       "      <th>3</th>\n",
       "      <td>-122.430198</td>\n",
       "      <td>37.759545</td>\n",
       "      <td>2.970366</td>\n",
       "      <td>225.938150</td>\n",
       "      <td>0.965926</td>\n",
       "      <td>0.258819</td>\n",
       "      <td>0.000000</td>\n",
       "      <td>1.000000</td>\n",
       "      <td>-1.000000e+00</td>\n",
       "      <td>-1.836970e-16</td>\n",
       "    </tr>\n",
       "    <tr>\n",
       "      <th>4</th>\n",
       "      <td>-73.872711</td>\n",
       "      <td>40.774292</td>\n",
       "      <td>10.089007</td>\n",
       "      <td>74.612030</td>\n",
       "      <td>0.707107</td>\n",
       "      <td>-0.707107</td>\n",
       "      <td>0.433884</td>\n",
       "      <td>-0.900969</td>\n",
       "      <td>8.660254e-01</td>\n",
       "      <td>5.000000e-01</td>\n",
       "    </tr>\n",
       "    <tr>\n",
       "      <th>...</th>\n",
       "      <td>...</td>\n",
       "      <td>...</td>\n",
       "      <td>...</td>\n",
       "      <td>...</td>\n",
       "      <td>...</td>\n",
       "      <td>...</td>\n",
       "      <td>...</td>\n",
       "      <td>...</td>\n",
       "      <td>...</td>\n",
       "      <td>...</td>\n",
       "    </tr>\n",
       "    <tr>\n",
       "      <th>29995</th>\n",
       "      <td>-74.005150</td>\n",
       "      <td>40.751530</td>\n",
       "      <td>1.781467</td>\n",
       "      <td>251.323069</td>\n",
       "      <td>-0.866025</td>\n",
       "      <td>0.500000</td>\n",
       "      <td>0.433884</td>\n",
       "      <td>-0.900969</td>\n",
       "      <td>1.000000e+00</td>\n",
       "      <td>6.123234e-17</td>\n",
       "    </tr>\n",
       "    <tr>\n",
       "      <th>29996</th>\n",
       "      <td>-73.783386</td>\n",
       "      <td>40.648930</td>\n",
       "      <td>20.040502</td>\n",
       "      <td>126.389113</td>\n",
       "      <td>-0.965926</td>\n",
       "      <td>-0.258819</td>\n",
       "      <td>0.000000</td>\n",
       "      <td>1.000000</td>\n",
       "      <td>-8.660254e-01</td>\n",
       "      <td>-5.000000e-01</td>\n",
       "    </tr>\n",
       "    <tr>\n",
       "      <th>29997</th>\n",
       "      <td>-73.974182</td>\n",
       "      <td>40.791790</td>\n",
       "      <td>0.963948</td>\n",
       "      <td>209.287238</td>\n",
       "      <td>-0.866025</td>\n",
       "      <td>-0.500000</td>\n",
       "      <td>-0.433884</td>\n",
       "      <td>-0.900969</td>\n",
       "      <td>1.000000e+00</td>\n",
       "      <td>6.123234e-17</td>\n",
       "    </tr>\n",
       "    <tr>\n",
       "      <th>29998</th>\n",
       "      <td>-73.982063</td>\n",
       "      <td>40.774445</td>\n",
       "      <td>4.377809</td>\n",
       "      <td>30.964731</td>\n",
       "      <td>0.965926</td>\n",
       "      <td>0.258819</td>\n",
       "      <td>0.000000</td>\n",
       "      <td>1.000000</td>\n",
       "      <td>-1.000000e+00</td>\n",
       "      <td>-1.836970e-16</td>\n",
       "    </tr>\n",
       "    <tr>\n",
       "      <th>29999</th>\n",
       "      <td>-73.982788</td>\n",
       "      <td>40.731419</td>\n",
       "      <td>2.248215</td>\n",
       "      <td>110.970238</td>\n",
       "      <td>-0.500000</td>\n",
       "      <td>-0.866025</td>\n",
       "      <td>-0.781831</td>\n",
       "      <td>0.623490</td>\n",
       "      <td>5.000000e-01</td>\n",
       "      <td>-8.660254e-01</td>\n",
       "    </tr>\n",
       "  </tbody>\n",
       "</table>\n",
       "<p>30000 rows × 10 columns</p>\n",
       "</div>"
      ],
      "text/plain": [
       "          end_lng    end_lat  distance_km     bearing  hour_sin  hour_cos  \\\n",
       "0      -73.962097  40.764500     5.401617   37.998379 -0.258819  0.965926   \n",
       "1     -122.428070  37.777023     2.307671   82.123188  0.258819  0.965926   \n",
       "2      -73.789917  40.646965    19.580248  126.279831  0.258819 -0.965926   \n",
       "3     -122.430198  37.759545     2.970366  225.938150  0.965926  0.258819   \n",
       "4      -73.872711  40.774292    10.089007   74.612030  0.707107 -0.707107   \n",
       "...           ...        ...          ...         ...       ...       ...   \n",
       "29995  -74.005150  40.751530     1.781467  251.323069 -0.866025  0.500000   \n",
       "29996  -73.783386  40.648930    20.040502  126.389113 -0.965926 -0.258819   \n",
       "29997  -73.974182  40.791790     0.963948  209.287238 -0.866025 -0.500000   \n",
       "29998  -73.982063  40.774445     4.377809   30.964731  0.965926  0.258819   \n",
       "29999  -73.982788  40.731419     2.248215  110.970238 -0.500000 -0.866025   \n",
       "\n",
       "       day_of_week_sin  day_of_week_cos     month_sin     month_cos  \n",
       "0            -0.974928        -0.222521  1.224647e-16 -1.000000e+00  \n",
       "1             0.000000         1.000000 -1.000000e+00 -1.836970e-16  \n",
       "2            -0.974928        -0.222521 -1.000000e+00 -1.836970e-16  \n",
       "3             0.000000         1.000000 -1.000000e+00 -1.836970e-16  \n",
       "4             0.433884        -0.900969  8.660254e-01  5.000000e-01  \n",
       "...                ...              ...           ...           ...  \n",
       "29995         0.433884        -0.900969  1.000000e+00  6.123234e-17  \n",
       "29996         0.000000         1.000000 -8.660254e-01 -5.000000e-01  \n",
       "29997        -0.433884        -0.900969  1.000000e+00  6.123234e-17  \n",
       "29998         0.000000         1.000000 -1.000000e+00 -1.836970e-16  \n",
       "29999        -0.781831         0.623490  5.000000e-01 -8.660254e-01  \n",
       "\n",
       "[30000 rows x 10 columns]"
      ]
     },
     "execution_count": 51,
     "metadata": {},
     "output_type": "execute_result"
    }
   ],
   "source": [
    "test = test[features]"
   ]
  },
  {
   "cell_type": "code",
   "execution_count": null,
   "metadata": {},
   "outputs": [
    {
     "ename": "TypeError",
     "evalue": "BaseForest.fit() missing 1 required positional argument: 'y'",
     "output_type": "error",
     "traceback": [
      "\u001b[0;31m---------------------------------------------------------------------------\u001b[0m",
      "\u001b[0;31mTypeError\u001b[0m                                 Traceback (most recent call last)",
      "Cell \u001b[0;32mIn[55], line 5\u001b[0m\n\u001b[1;32m      1\u001b[0m \u001b[38;5;28;01mfrom\u001b[39;00m \u001b[38;5;21;01msklearn\u001b[39;00m\u001b[38;5;21;01m.\u001b[39;00m\u001b[38;5;21;01mmodel_selection\u001b[39;00m \u001b[38;5;28;01mimport\u001b[39;00m cross_val_predict\n\u001b[1;32m      2\u001b[0m \u001b[38;5;66;03m# use baseline_model to predict values for test set\u001b[39;00m\n\u001b[1;32m      3\u001b[0m \u001b[38;5;66;03m# predictions = rf_model.predict(test)\u001b[39;00m\n\u001b[1;32m      4\u001b[0m \u001b[38;5;66;03m# predict with cross_val_score\u001b[39;00m\n\u001b[0;32m----> 5\u001b[0m predictions \u001b[38;5;241m=\u001b[39m cross_val_predict(rf_model, test, cv\u001b[38;5;241m=\u001b[39m\u001b[38;5;241m5\u001b[39m)\n\u001b[1;32m      6\u001b[0m \u001b[38;5;28;01mwith\u001b[39;00m \u001b[38;5;28mopen\u001b[39m(\u001b[38;5;124m'\u001b[39m\u001b[38;5;124mpredictions.csv\u001b[39m\u001b[38;5;124m'\u001b[39m, \u001b[38;5;124m'\u001b[39m\u001b[38;5;124mw\u001b[39m\u001b[38;5;124m'\u001b[39m) \u001b[38;5;28;01mas\u001b[39;00m f:\n\u001b[1;32m      7\u001b[0m     f\u001b[38;5;241m.\u001b[39mwrite(\u001b[38;5;124m\"\u001b[39m\u001b[38;5;124mrow_id,duration\u001b[39m\u001b[38;5;130;01m\\n\u001b[39;00m\u001b[38;5;124m\"\u001b[39m)\n",
      "File \u001b[0;32m~/anaconda3/envs/regression/lib/python3.11/site-packages/sklearn/utils/_param_validation.py:216\u001b[0m, in \u001b[0;36mvalidate_params.<locals>.decorator.<locals>.wrapper\u001b[0;34m(*args, **kwargs)\u001b[0m\n\u001b[1;32m    210\u001b[0m \u001b[38;5;28;01mtry\u001b[39;00m:\n\u001b[1;32m    211\u001b[0m     \u001b[38;5;28;01mwith\u001b[39;00m config_context(\n\u001b[1;32m    212\u001b[0m         skip_parameter_validation\u001b[38;5;241m=\u001b[39m(\n\u001b[1;32m    213\u001b[0m             prefer_skip_nested_validation \u001b[38;5;129;01mor\u001b[39;00m global_skip_validation\n\u001b[1;32m    214\u001b[0m         )\n\u001b[1;32m    215\u001b[0m     ):\n\u001b[0;32m--> 216\u001b[0m         \u001b[38;5;28;01mreturn\u001b[39;00m func(\u001b[38;5;241m*\u001b[39margs, \u001b[38;5;241m*\u001b[39m\u001b[38;5;241m*\u001b[39mkwargs)\n\u001b[1;32m    217\u001b[0m \u001b[38;5;28;01mexcept\u001b[39;00m InvalidParameterError \u001b[38;5;28;01mas\u001b[39;00m e:\n\u001b[1;32m    218\u001b[0m     \u001b[38;5;66;03m# When the function is just a wrapper around an estimator, we allow\u001b[39;00m\n\u001b[1;32m    219\u001b[0m     \u001b[38;5;66;03m# the function to delegate validation to the estimator, but we replace\u001b[39;00m\n\u001b[1;32m    220\u001b[0m     \u001b[38;5;66;03m# the name of the estimator by the name of the function in the error\u001b[39;00m\n\u001b[1;32m    221\u001b[0m     \u001b[38;5;66;03m# message to avoid confusion.\u001b[39;00m\n\u001b[1;32m    222\u001b[0m     msg \u001b[38;5;241m=\u001b[39m re\u001b[38;5;241m.\u001b[39msub(\n\u001b[1;32m    223\u001b[0m         \u001b[38;5;124mr\u001b[39m\u001b[38;5;124m\"\u001b[39m\u001b[38;5;124mparameter of \u001b[39m\u001b[38;5;124m\\\u001b[39m\u001b[38;5;124mw+ must be\u001b[39m\u001b[38;5;124m\"\u001b[39m,\n\u001b[1;32m    224\u001b[0m         \u001b[38;5;124mf\u001b[39m\u001b[38;5;124m\"\u001b[39m\u001b[38;5;124mparameter of \u001b[39m\u001b[38;5;132;01m{\u001b[39;00mfunc\u001b[38;5;241m.\u001b[39m\u001b[38;5;18m__qualname__\u001b[39m\u001b[38;5;132;01m}\u001b[39;00m\u001b[38;5;124m must be\u001b[39m\u001b[38;5;124m\"\u001b[39m,\n\u001b[1;32m    225\u001b[0m         \u001b[38;5;28mstr\u001b[39m(e),\n\u001b[1;32m    226\u001b[0m     )\n",
      "File \u001b[0;32m~/anaconda3/envs/regression/lib/python3.11/site-packages/sklearn/model_selection/_validation.py:1247\u001b[0m, in \u001b[0;36mcross_val_predict\u001b[0;34m(estimator, X, y, groups, cv, n_jobs, verbose, params, pre_dispatch, method)\u001b[0m\n\u001b[1;32m   1244\u001b[0m \u001b[38;5;66;03m# We clone the estimator to make sure that all the folds are\u001b[39;00m\n\u001b[1;32m   1245\u001b[0m \u001b[38;5;66;03m# independent, and that it is pickle-able.\u001b[39;00m\n\u001b[1;32m   1246\u001b[0m parallel \u001b[38;5;241m=\u001b[39m Parallel(n_jobs\u001b[38;5;241m=\u001b[39mn_jobs, verbose\u001b[38;5;241m=\u001b[39mverbose, pre_dispatch\u001b[38;5;241m=\u001b[39mpre_dispatch)\n\u001b[0;32m-> 1247\u001b[0m predictions \u001b[38;5;241m=\u001b[39m parallel(\n\u001b[1;32m   1248\u001b[0m     delayed(_fit_and_predict)(\n\u001b[1;32m   1249\u001b[0m         clone(estimator),\n\u001b[1;32m   1250\u001b[0m         X,\n\u001b[1;32m   1251\u001b[0m         y,\n\u001b[1;32m   1252\u001b[0m         train,\n\u001b[1;32m   1253\u001b[0m         test,\n\u001b[1;32m   1254\u001b[0m         routed_params\u001b[38;5;241m.\u001b[39mestimator\u001b[38;5;241m.\u001b[39mfit,\n\u001b[1;32m   1255\u001b[0m         method,\n\u001b[1;32m   1256\u001b[0m     )\n\u001b[1;32m   1257\u001b[0m     \u001b[38;5;28;01mfor\u001b[39;00m train, test \u001b[38;5;129;01min\u001b[39;00m splits\n\u001b[1;32m   1258\u001b[0m )\n\u001b[1;32m   1260\u001b[0m inv_test_indices \u001b[38;5;241m=\u001b[39m np\u001b[38;5;241m.\u001b[39mempty(\u001b[38;5;28mlen\u001b[39m(test_indices), dtype\u001b[38;5;241m=\u001b[39m\u001b[38;5;28mint\u001b[39m)\n\u001b[1;32m   1261\u001b[0m inv_test_indices[test_indices] \u001b[38;5;241m=\u001b[39m np\u001b[38;5;241m.\u001b[39marange(\u001b[38;5;28mlen\u001b[39m(test_indices))\n",
      "File \u001b[0;32m~/anaconda3/envs/regression/lib/python3.11/site-packages/sklearn/utils/parallel.py:77\u001b[0m, in \u001b[0;36mParallel.__call__\u001b[0;34m(self, iterable)\u001b[0m\n\u001b[1;32m     72\u001b[0m config \u001b[38;5;241m=\u001b[39m get_config()\n\u001b[1;32m     73\u001b[0m iterable_with_config \u001b[38;5;241m=\u001b[39m (\n\u001b[1;32m     74\u001b[0m     (_with_config(delayed_func, config), args, kwargs)\n\u001b[1;32m     75\u001b[0m     \u001b[38;5;28;01mfor\u001b[39;00m delayed_func, args, kwargs \u001b[38;5;129;01min\u001b[39;00m iterable\n\u001b[1;32m     76\u001b[0m )\n\u001b[0;32m---> 77\u001b[0m \u001b[38;5;28;01mreturn\u001b[39;00m \u001b[38;5;28msuper\u001b[39m()\u001b[38;5;241m.\u001b[39m\u001b[38;5;21m__call__\u001b[39m(iterable_with_config)\n",
      "File \u001b[0;32m~/anaconda3/envs/regression/lib/python3.11/site-packages/joblib/parallel.py:1918\u001b[0m, in \u001b[0;36mParallel.__call__\u001b[0;34m(self, iterable)\u001b[0m\n\u001b[1;32m   1916\u001b[0m     output \u001b[38;5;241m=\u001b[39m \u001b[38;5;28mself\u001b[39m\u001b[38;5;241m.\u001b[39m_get_sequential_output(iterable)\n\u001b[1;32m   1917\u001b[0m     \u001b[38;5;28mnext\u001b[39m(output)\n\u001b[0;32m-> 1918\u001b[0m     \u001b[38;5;28;01mreturn\u001b[39;00m output \u001b[38;5;28;01mif\u001b[39;00m \u001b[38;5;28mself\u001b[39m\u001b[38;5;241m.\u001b[39mreturn_generator \u001b[38;5;28;01melse\u001b[39;00m \u001b[38;5;28mlist\u001b[39m(output)\n\u001b[1;32m   1920\u001b[0m \u001b[38;5;66;03m# Let's create an ID that uniquely identifies the current call. If the\u001b[39;00m\n\u001b[1;32m   1921\u001b[0m \u001b[38;5;66;03m# call is interrupted early and that the same instance is immediately\u001b[39;00m\n\u001b[1;32m   1922\u001b[0m \u001b[38;5;66;03m# re-used, this id will be used to prevent workers that were\u001b[39;00m\n\u001b[1;32m   1923\u001b[0m \u001b[38;5;66;03m# concurrently finalizing a task from the previous call to run the\u001b[39;00m\n\u001b[1;32m   1924\u001b[0m \u001b[38;5;66;03m# callback.\u001b[39;00m\n\u001b[1;32m   1925\u001b[0m \u001b[38;5;28;01mwith\u001b[39;00m \u001b[38;5;28mself\u001b[39m\u001b[38;5;241m.\u001b[39m_lock:\n",
      "File \u001b[0;32m~/anaconda3/envs/regression/lib/python3.11/site-packages/joblib/parallel.py:1847\u001b[0m, in \u001b[0;36mParallel._get_sequential_output\u001b[0;34m(self, iterable)\u001b[0m\n\u001b[1;32m   1845\u001b[0m \u001b[38;5;28mself\u001b[39m\u001b[38;5;241m.\u001b[39mn_dispatched_batches \u001b[38;5;241m+\u001b[39m\u001b[38;5;241m=\u001b[39m \u001b[38;5;241m1\u001b[39m\n\u001b[1;32m   1846\u001b[0m \u001b[38;5;28mself\u001b[39m\u001b[38;5;241m.\u001b[39mn_dispatched_tasks \u001b[38;5;241m+\u001b[39m\u001b[38;5;241m=\u001b[39m \u001b[38;5;241m1\u001b[39m\n\u001b[0;32m-> 1847\u001b[0m res \u001b[38;5;241m=\u001b[39m func(\u001b[38;5;241m*\u001b[39margs, \u001b[38;5;241m*\u001b[39m\u001b[38;5;241m*\u001b[39mkwargs)\n\u001b[1;32m   1848\u001b[0m \u001b[38;5;28mself\u001b[39m\u001b[38;5;241m.\u001b[39mn_completed_tasks \u001b[38;5;241m+\u001b[39m\u001b[38;5;241m=\u001b[39m \u001b[38;5;241m1\u001b[39m\n\u001b[1;32m   1849\u001b[0m \u001b[38;5;28mself\u001b[39m\u001b[38;5;241m.\u001b[39mprint_progress()\n",
      "File \u001b[0;32m~/anaconda3/envs/regression/lib/python3.11/site-packages/sklearn/utils/parallel.py:139\u001b[0m, in \u001b[0;36m_FuncWrapper.__call__\u001b[0;34m(self, *args, **kwargs)\u001b[0m\n\u001b[1;32m    137\u001b[0m     config \u001b[38;5;241m=\u001b[39m {}\n\u001b[1;32m    138\u001b[0m \u001b[38;5;28;01mwith\u001b[39;00m config_context(\u001b[38;5;241m*\u001b[39m\u001b[38;5;241m*\u001b[39mconfig):\n\u001b[0;32m--> 139\u001b[0m     \u001b[38;5;28;01mreturn\u001b[39;00m \u001b[38;5;28mself\u001b[39m\u001b[38;5;241m.\u001b[39mfunction(\u001b[38;5;241m*\u001b[39margs, \u001b[38;5;241m*\u001b[39m\u001b[38;5;241m*\u001b[39mkwargs)\n",
      "File \u001b[0;32m~/anaconda3/envs/regression/lib/python3.11/site-packages/sklearn/model_selection/_validation.py:1330\u001b[0m, in \u001b[0;36m_fit_and_predict\u001b[0;34m(estimator, X, y, train, test, fit_params, method)\u001b[0m\n\u001b[1;32m   1327\u001b[0m X_test, _ \u001b[38;5;241m=\u001b[39m _safe_split(estimator, X, y, test, train)\n\u001b[1;32m   1329\u001b[0m \u001b[38;5;28;01mif\u001b[39;00m y_train \u001b[38;5;129;01mis\u001b[39;00m \u001b[38;5;28;01mNone\u001b[39;00m:\n\u001b[0;32m-> 1330\u001b[0m     estimator\u001b[38;5;241m.\u001b[39mfit(X_train, \u001b[38;5;241m*\u001b[39m\u001b[38;5;241m*\u001b[39mfit_params)\n\u001b[1;32m   1331\u001b[0m \u001b[38;5;28;01melse\u001b[39;00m:\n\u001b[1;32m   1332\u001b[0m     estimator\u001b[38;5;241m.\u001b[39mfit(X_train, y_train, \u001b[38;5;241m*\u001b[39m\u001b[38;5;241m*\u001b[39mfit_params)\n",
      "File \u001b[0;32m~/anaconda3/envs/regression/lib/python3.11/site-packages/sklearn/base.py:1389\u001b[0m, in \u001b[0;36m_fit_context.<locals>.decorator.<locals>.wrapper\u001b[0;34m(estimator, *args, **kwargs)\u001b[0m\n\u001b[1;32m   1382\u001b[0m     estimator\u001b[38;5;241m.\u001b[39m_validate_params()\n\u001b[1;32m   1384\u001b[0m \u001b[38;5;28;01mwith\u001b[39;00m config_context(\n\u001b[1;32m   1385\u001b[0m     skip_parameter_validation\u001b[38;5;241m=\u001b[39m(\n\u001b[1;32m   1386\u001b[0m         prefer_skip_nested_validation \u001b[38;5;129;01mor\u001b[39;00m global_skip_validation\n\u001b[1;32m   1387\u001b[0m     )\n\u001b[1;32m   1388\u001b[0m ):\n\u001b[0;32m-> 1389\u001b[0m     \u001b[38;5;28;01mreturn\u001b[39;00m fit_method(estimator, \u001b[38;5;241m*\u001b[39margs, \u001b[38;5;241m*\u001b[39m\u001b[38;5;241m*\u001b[39mkwargs)\n",
      "\u001b[0;31mTypeError\u001b[0m: BaseForest.fit() missing 1 required positional argument: 'y'"
     ]
    }
   ],
   "source": [
    "from sklearn.model_selection import cross_val_predict\n",
    "# use baseline_model to predict values for test set\n",
    "predictions = rf_model.predict(test)\n",
    "with open('predictions.csv', 'w') as f:\n",
    "    f.write(\"row_id,duration\\n\")\n",
    "    for i, duration in enumerate(predictions):\n",
    "        f.write(f\"{i},{duration}\\n\")"
   ]
  }
 ],
 "metadata": {
  "kernelspec": {
   "display_name": "regression",
   "language": "python",
   "name": "python3"
  },
  "language_info": {
   "codemirror_mode": {
    "name": "ipython",
    "version": 3
   },
   "file_extension": ".py",
   "mimetype": "text/x-python",
   "name": "python",
   "nbconvert_exporter": "python",
   "pygments_lexer": "ipython3",
   "version": "3.11.11"
  }
 },
 "nbformat": 4,
 "nbformat_minor": 2
}
