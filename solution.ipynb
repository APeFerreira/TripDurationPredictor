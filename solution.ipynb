{
 "cells": [
  {
   "cell_type": "markdown",
   "metadata": {},
   "source": [
    "# Step 1: Problem Definition and Requirements\n",
    "\n",
    "**Objective:**  \n",
    "Predict travel time (duration in seconds) for ride trips given start and end locations (specified in WGS84 coordinates) and a departure datetime.\n",
    "\n",
    "**Datasets:**  \n",
    "- **train.csv:** Contains columns:\n",
    "  - `row_id`, `start_lng`, `start_lat`, `end_lng`, `end_lat`, `datetime`, `duration`\n",
    "- **test.csv:** Contains columns:\n",
    "  - `row_id`, `start_lng`, `start_lat`, `end_lng`, `end_lat`, `datetime`\n",
    "\n",
    "**Evaluation Metric:**  \n",
    "Root Mean Squared Error (RMSE) computed as:  \n",
    "```python\n",
    "RMSE = sqrt(mean_squared_error(prediction, ground_truth))"
   ]
  },
  {
   "cell_type": "markdown",
   "metadata": {},
   "source": [
    "# 2. Data Ingestion and Exploration\n",
    "\n",
    "- Load train.csv and test.csv; inspect data types, distributions, and anomalies.\n",
    "- Explore geospatial distributions, temporal trends, and basic summary statistics.\n",
    "- Justification: Early data insights help identify quality issues, outliers, and potential transformations essential for robust modeling."
   ]
  }
 ],
 "metadata": {
  "language_info": {
   "name": "python"
  }
 },
 "nbformat": 4,
 "nbformat_minor": 2
}
