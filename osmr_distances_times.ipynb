{
 "cells": [
  {
   "cell_type": "code",
   "execution_count": null,
   "metadata": {},
   "outputs": [],
   "source": [
    "import requests\n",
    "\n",
    "OSRM_URL = \"http://localhost:5000\"\n",
    "\n",
    "import pandas as pd\n",
    "df = pd.read_csv('train_cleaned.csv', index_col=0)\n",
    "\n",
    "\n",
    "def get_osrm_route(start_lat, start_lng, end_lat, end_lng):\n",
    "    \"\"\"Fetch route details from OSRM based on start and end coordinates.\"\"\"\n",
    "    coordinates = f\"{start_lng},{start_lat};{end_lng},{end_lat}\"\n",
    "    route_url = f\"{OSRM_URL}/route/v1/driving/{coordinates}?overview=false\"  # Change 'overview' if full route is needed\n",
    "\n",
    "    response = requests.get(route_url)\n",
    "    \n",
    "    if response.status_code == 200:\n",
    "        data = response.json()\n",
    "        if data[\"routes\"]:  # Ensure routes are returned\n",
    "            return data[\"routes\"][0][\"distance\"], data[\"routes\"][0][\"duration\"]\n",
    "    return None, None  # Return None if no valid response\n",
    "\n",
    "df[\"osrm_distance\"], df[\"osrm_duration\"] = zip(*df.apply(lambda row: get_osrm_route(\n",
    "    row[\"start_lat\"], row[\"start_lng\"], row[\"end_lat\"], row[\"end_lng\"]), axis=1))\n",
    "\n",
    "\n",
    "df.to_csv('train_with_osrm.csv', index=False)"
   ]
  }
 ],
 "metadata": {
  "kernelspec": {
   "display_name": "regression",
   "language": "python",
   "name": "python3"
  },
  "language_info": {
   "codemirror_mode": {
    "name": "ipython",
    "version": 3
   },
   "file_extension": ".py",
   "mimetype": "text/x-python",
   "name": "python",
   "nbconvert_exporter": "python",
   "pygments_lexer": "ipython3",
   "version": "3.11.11"
  }
 },
 "nbformat": 4,
 "nbformat_minor": 2
}
