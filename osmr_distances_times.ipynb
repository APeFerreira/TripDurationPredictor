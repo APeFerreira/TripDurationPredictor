{
 "cells": [
  {
   "cell_type": "code",
   "execution_count": null,
   "metadata": {},
   "outputs": [],
   "source": [
    "import requests\n",
    "import pandas as pd\n",
    "\n",
    "OSRM_URL_NY = \"http://localhost:5000\"\n",
    "OSRM_URL_SF = \"http://localhost:5001\"\n",
    "\n",
    "\n",
    "train = pd.read_csv('train_cleaned.csv', index_col=0)\n",
    "test = pd.read_csv('test_cleaned.csv', index_col=0)"
   ]
  },
  {
   "cell_type": "code",
   "execution_count": null,
   "metadata": {},
   "outputs": [],
   "source": [
    "def get_osrm_route(osrm_url, start_lat, start_lng, end_lat, end_lng):\n",
    "    \"\"\"Fetch route details from OSRM based on start and end coordinates.\"\"\"\n",
    "    coordinates = f\"{start_lng},{start_lat};{end_lng},{end_lat}\"\n",
    "    route_url = f\"{osrm_url}/route/v1/driving/{coordinates}?overview=false\"\n",
    "\n",
    "    response = requests.get(route_url)\n",
    "    \n",
    "    if response.status_code == 200:\n",
    "        data = response.json()\n",
    "        if data[\"routes\"]:\n",
    "            return data[\"routes\"][0][\"distance\"], data[\"routes\"][0][\"duration\"]\n",
    "    return None, None"
   ]
  },
  {
   "cell_type": "code",
   "execution_count": null,
   "metadata": {},
   "outputs": [],
   "source": [
    "ny_df_train = train[train['start_city'] == 'NY']\n",
    "ny_df_test = test[test['start_city'] == 'NY']\n",
    "\n",
    "sf_df_train = train[train['start_city'] == 'SF']\n",
    "sf_df_test = test[test['start_city'] == 'SF']\n",
    "\n",
    "ny_df_train[\"osrm_distance\"], ny_df_train[\"osrm_duration\"] = zip(\n",
    "    *ny_df_train.apply(\n",
    "        lambda row: get_osrm_route(OSRM_URL_NY, row[\"start_lat\"], row[\"start_lng\"], row[\"end_lat\"], row[\"end_lng\"]),\n",
    "        axis=1\n",
    "    )\n",
    ")\n",
    "\n",
    "ny_df_test[\"osrm_distance\"], ny_df_test[\"osrm_duration\"] = zip(\n",
    "    *ny_df_test.apply(\n",
    "        lambda row: get_osrm_route(OSRM_URL_NY, row[\"start_lat\"], row[\"start_lng\"], row[\"end_lat\"], row[\"end_lng\"]),\n",
    "        axis=1\n",
    "    )\n",
    ")\n",
    "\n",
    "sf_df_train[\"osrm_distance\"], sf_df_train[\"osrm_duration\"] = zip(\n",
    "    *sf_df_train.apply(\n",
    "        lambda row: get_osrm_route(OSRM_URL_SF, row[\"start_lat\"], row[\"start_lng\"], row[\"end_lat\"], row[\"end_lng\"]),\n",
    "        axis=1\n",
    "    )\n",
    ")\n",
    "\n",
    "sf_df_test[\"osrm_distance\"], sf_df_test[\"osrm_duration\"] = zip(\n",
    "    *sf_df_test.apply(\n",
    "        lambda row: get_osrm_route(OSRM_URL_SF, row[\"start_lat\"], row[\"start_lng\"], row[\"end_lat\"], row[\"end_lng\"]),\n",
    "        axis=1\n",
    "    )\n",
    ")\n",
    "\n",
    "ny_df_train = ny_df_train[(ny_df_train['osrm_distance'] > 0) & (ny_df_train['osrm_duration'] > 0)]\n",
    "sf_df_train = sf_df_train[(sf_df_train['osrm_distance'] > 0) & (sf_df_train['osrm_duration'] > 0)]\n",
    "\n",
    "ny_df_train = ny_df_train[['osrm_distance', 'osrm_duration']]\n",
    "ny_df_test = ny_df_test[['osrm_distance', 'osrm_duration']]\n",
    "sf_df_train = sf_df_train[['osrm_distance', 'osrm_duration']]\n",
    "sf_df_test = sf_df_test[['osrm_distance', 'osrm_duration']]\n",
    "\n",
    "train_osrm = pd.concat([ny_df_train, sf_df_train])\n",
    "train_osrm.sort_index(inplace=True)\n",
    "test_osrm = pd.concat([ny_df_test, sf_df_test])\n",
    "test_osrm.sort_index(inplace=True)\n",
    "\n",
    "train_osrm.to_csv('train_osrm.csv')\n",
    "test_osrm.to_csv('test_osrm.csv')"
   ]
  }
 ],
 "metadata": {
  "kernelspec": {
   "display_name": "regression",
   "language": "python",
   "name": "python3"
  },
  "language_info": {
   "codemirror_mode": {
    "name": "ipython",
    "version": 3
   },
   "file_extension": ".py",
   "mimetype": "text/x-python",
   "name": "python",
   "nbconvert_exporter": "python",
   "pygments_lexer": "ipython3",
   "version": "3.11.11"
  }
 },
 "nbformat": 4,
 "nbformat_minor": 2
}
